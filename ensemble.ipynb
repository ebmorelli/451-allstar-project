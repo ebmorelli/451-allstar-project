{
 "cells": [
  {
   "cell_type": "code",
   "execution_count": 1,
   "metadata": {},
   "outputs": [],
   "source": [
    "import pandas as pd\n",
    "from sklearn.model_selection import train_test_split, GridSearchCV\n",
    "from sklearn.pipeline import Pipeline\n",
    "from sklearn.preprocessing import StandardScaler\n",
    "from sklearn.linear_model import LogisticRegression\n",
    "from sklearn.neighbors import KNeighborsClassifier\n",
    "from mlxtend.classifier import EnsembleVoteClassifier, StackingClassifier, StackingCVClassifier\n",
    "from sklearn.ensemble import RandomForestClassifier, AdaBoostClassifier\n",
    "from sklearn.tree import DecisionTreeClassifier\n",
    "from sklearn.neural_network import MLPClassifier\n",
    "import warnings\n",
    "warnings.filterwarnings(\"ignore\")"
   ]
  },
  {
   "cell_type": "code",
   "execution_count": 2,
   "metadata": {},
   "outputs": [],
   "source": [
    "# pre-processing\n",
    "df = pd.read_csv(\"master_data.csv\")\n",
    "df['RS%'] = df['RS%'].str.rstrip('%').astype('float') / 100.0\n",
    "df['SB%'] = df['SB%'].str.rstrip('%').astype('float') / 100.0\n",
    "df = df.dropna()\n",
    "train, test = train_test_split(df, random_state=123)\n",
    "xcols = [\"Age\", \"G\", \"R\", \"H\", \"HR\", \"RBI\", \"SB\", \"SO\", \"BA\", \"SLG\", \"OPS\", \"Value Ranking\", \"WPA\", \"RS%\", \"SB%\", \"ISO\"]\n",
    "xcols_alt = [\"R\", \"H\", \"HR\", \"RBI\", \"SO\", \"OPS\", \"Value Ranking\"]\n",
    "X_train = train[xcols_alt]\n",
    "y_train = train['allstars']\n",
    "X_test = test[xcols_alt]\n",
    "y_test = test['allstars']"
   ]
  },
  {
   "cell_type": "code",
   "execution_count": 3,
   "metadata": {},
   "outputs": [
    {
     "name": "stdout",
     "output_type": "stream",
     "text": [
      "{'penalty': 'none', 'solver': 'newton-cg'}\n"
     ]
    }
   ],
   "source": [
    "# Logistic regression\n",
    "\n",
    "log_reg = LogisticRegression(random_state=123)\n",
    "params =  {\n",
    "    'penalty': ['none', 'l2', 'l1', 'elasticnet'],\n",
    "    'solver': ['newton-cg', 'lbfgs', 'saga', 'sag']\n",
    "}\n",
    "grid = GridSearchCV(estimator=log_reg,\n",
    "                    param_grid=params,\n",
    "                    cv=10,\n",
    "                    n_jobs=1,\n",
    "                    verbose=0)\n",
    "grid.fit(X_train, y_train)\n",
    "p = grid.best_params_\n",
    "print(p)\n",
    "\n",
    "# Logistic Reg post tuning\n",
    "\n",
    "log_reg = Pipeline([\n",
    "    (\"std\", StandardScaler()),\n",
    "    (\"logr\", LogisticRegression(penalty = p['penalty'], solver = p['solver'], random_state=123))\n",
    "])"
   ]
  },
  {
   "cell_type": "code",
   "execution_count": 4,
   "metadata": {},
   "outputs": [
    {
     "name": "stdout",
     "output_type": "stream",
     "text": [
      "{'n_neighbors': 8}\n"
     ]
    }
   ],
   "source": [
    "# k-Nearest Neighbors\n",
    "knn = KNeighborsClassifier()\n",
    "params = {'n_neighbors': [6, 8, 9, 10, 12]}\n",
    "grid = GridSearchCV(estimator=knn,\n",
    "                    param_grid=params,\n",
    "                    cv=10,\n",
    "                    n_jobs=1,\n",
    "                    verbose=0)\n",
    "grid.fit(X_train, y_train)\n",
    "print(grid.best_params_)\n",
    "knn = KNeighborsClassifier(n_neighbors = grid.best_params_['n_neighbors'])"
   ]
  },
  {
   "cell_type": "code",
   "execution_count": 5,
   "metadata": {},
   "outputs": [
    {
     "name": "stdout",
     "output_type": "stream",
     "text": [
      "{'criterion': 'entropy', 'max_depth': 9, 'max_features': 'auto'}\n"
     ]
    }
   ],
   "source": [
    "# Random Forest\n",
    "rf = RandomForestClassifier(random_state = 123)\n",
    "params = {\n",
    "    'criterion': ['gini', 'entropy'],\n",
    "    'max_depth': [9, 10, 11],\n",
    "    'max_features': ['auto', 'sqrt', 'log2']\n",
    "}\n",
    "grid = GridSearchCV(estimator=rf,\n",
    "                    param_grid=params,\n",
    "                    cv=10,\n",
    "                    n_jobs=1,\n",
    "                    verbose=0)\n",
    "grid.fit(X_train, y_train)\n",
    "p = grid.best_params_\n",
    "print(p)\n",
    "rf = RandomForestClassifier(random_state = 123, criterion = p['criterion'], max_depth = p['max_depth'], max_features = p['max_features'])"
   ]
  },
  {
   "cell_type": "code",
   "execution_count": 6,
   "metadata": {},
   "outputs": [
    {
     "name": "stdout",
     "output_type": "stream",
     "text": [
      "{'criterion': 'gini', 'max_depth': 2, 'max_features': None, 'min_samples_split': 2}\n"
     ]
    }
   ],
   "source": [
    "# Decision Tree\n",
    "dtc = DecisionTreeClassifier(random_state = 123)\n",
    "params =  {\n",
    "    'min_samples_split': [1, 2, 3],\n",
    "    'max_depth': [2, 4, 6, 8, None],\n",
    "    'max_features': [\"auto\",\"sqrt\", \"log2\", None],\n",
    "    'criterion': [\"gini\", \"entropy\"]\n",
    "}\n",
    "grid = GridSearchCV(estimator=dtc,\n",
    "                    param_grid=params,\n",
    "                    cv=10,\n",
    "                    n_jobs=1,\n",
    "                    verbose=0)\n",
    "grid.fit(X_train, y_train)\n",
    "p = grid.best_params_\n",
    "print(p)\n",
    "dtc = DecisionTreeClassifier(random_state = 123,\n",
    "                             max_depth = grid.best_params_['max_depth'],\n",
    "                             max_features = grid.best_params_['max_features'],\n",
    "                             min_samples_split = grid.best_params_['min_samples_split'], \n",
    "                             criterion = grid.best_params_['criterion'])"
   ]
  },
  {
   "cell_type": "code",
   "execution_count": 7,
   "metadata": {},
   "outputs": [],
   "source": [
    "# Multi-Layer Perceptron\n",
    "# note: gridsearch takes forever\n",
    "mlp = MLPClassifier(random_state=123)"
   ]
  },
  {
   "cell_type": "code",
   "execution_count": 8,
   "metadata": {},
   "outputs": [],
   "source": [
    "# AdaBoost\n",
    "ada = AdaBoostClassifier()"
   ]
  },
  {
   "cell_type": "code",
   "execution_count": 14,
   "metadata": {},
   "outputs": [
    {
     "name": "stdout",
     "output_type": "stream",
     "text": [
      "Train accuracy: 92.995 [Logistic Regression]\n",
      "Test accuracy: 92.044 [Logistic Regression]\n",
      "\n",
      "Train accuracy: 93.407 [k Nearest Neighbors]\n",
      "Test accuracy: 91.084 [k Nearest Neighbors]\n",
      "\n",
      "Train accuracy: 97.848 [Random Forest]\n",
      "Test accuracy: 92.044 [Random Forest]\n",
      "\n",
      "Train accuracy: 92.811 [Decision Tree]\n",
      "Test accuracy: 91.770 [Decision Tree]\n",
      "\n",
      "Train accuracy: 92.766 [MLP]\n",
      "Test accuracy: 90.535 [MLP]\n",
      "\n",
      "Train accuracy: 93.452 [AdaBoost]\n",
      "Test accuracy: 91.632 [AdaBoost]\n",
      "\n",
      "Train accuracy: 94.093 [Vote Ensemble]\n",
      "Test accuracy: 91.495 [Vote Ensemble]\n",
      "\n",
      "\n",
      "Stacking with meta clf: LogisticRegression(random_state=123)\n",
      "Train accuracy: 97.848\n",
      "Test accuracy: 92.044\n",
      "\n",
      "Stacking with meta clf: KNeighborsClassifier()\n",
      "Train accuracy: 97.756\n",
      "Test accuracy: 91.770\n",
      "\n",
      "Stacking with meta clf: RandomForestClassifier(random_state=123)\n",
      "Train accuracy: 97.848\n",
      "Test accuracy: 92.044\n",
      "\n",
      "Stacking with meta clf: DecisionTreeClassifier(random_state=123)\n",
      "Train accuracy: 97.848\n",
      "Test accuracy: 92.044\n",
      "\n",
      "Stacking with meta clf: MLPClassifier(random_state=123)\n",
      "Train accuracy: 97.848\n",
      "Test accuracy: 92.044\n",
      "\n",
      "Stacking with meta clf: AdaBoostClassifier()\n",
      "Train accuracy: 97.848\n",
      "Test accuracy: 92.044\n"
     ]
    }
   ],
   "source": [
    "# Vote Classifier (Ensemble)\n",
    "clfs = [log_reg, knn, rf, dtc, mlp, ada]\n",
    "ens = EnsembleVoteClassifier(clfs = clfs)\n",
    "labels = ['Logistic Regression', \"k Nearest Neighbors\", \"Random Forest\", \"Decision Tree\", \"MLP\", \"AdaBoost\", \"Vote Ensemble\"]\n",
    "for clf, label in zip(clfs + [ens], labels):\n",
    "    clf.fit(X_train, y_train)\n",
    "    print(\"Train accuracy: %0.3f [%s]\" % (clf.score(X_train, y_train) * 100, label))\n",
    "    print(\"Test accuracy: %0.3f [%s]\" % (clf.score(X_test, y_test) * 100, label))\n",
    "    print(\"\")\n",
    "\n",
    "# Stacking Classifier\n",
    "meta_clfs = [LogisticRegression(random_state=123), KNeighborsClassifier(), RandomForestClassifier(random_state = 123),\n",
    "             DecisionTreeClassifier(random_state = 123), MLPClassifier(random_state=123), AdaBoostClassifier()]\n",
    "for meta_clf in meta_clfs:\n",
    "    print(\"\\n\" + \"Stacking with meta clf: \" + str(meta_clf))\n",
    "    stack = StackingClassifier(classifiers = clfs, meta_classifier = meta_clf)\n",
    "    stack.fit(X_train, y_train)\n",
    "    print(\"Train accuracy: %0.3f\" % (stack.score(X_train, y_train) * 100))\n",
    "    print(\"Test accuracy: %0.3f\" % (stack.score(X_test, y_test) * 100))"
   ]
  },
  {
   "cell_type": "code",
   "execution_count": 15,
   "metadata": {},
   "outputs": [
    {
     "name": "stdout",
     "output_type": "stream",
     "text": [
      "Train accuracy: 92.995 [Logistic Regression]\n",
      "Test accuracy: 92.044 [Logistic Regression]\n",
      "\n",
      "Train accuracy: 97.848 [Random Forest]\n",
      "Test accuracy: 92.044 [Random Forest]\n",
      "\n",
      "Train accuracy: 93.452 [AdaBoost]\n",
      "Test accuracy: 91.632 [AdaBoost]\n",
      "\n",
      "Train accuracy: 94.139 [Vote Ensemble]\n",
      "Test accuracy: 92.181 [Vote Ensemble]\n",
      "\n",
      "\n",
      "Stacking with meta clf: LogisticRegression(random_state=123)\n",
      "Train accuracy: 97.848\n",
      "Test accuracy: 92.044\n",
      "\n",
      "Stacking with meta clf: KNeighborsClassifier()\n",
      "Train accuracy: 97.848\n",
      "Test accuracy: 92.044\n",
      "\n",
      "Stacking with meta clf: RandomForestClassifier(random_state=123)\n",
      "Train accuracy: 97.848\n",
      "Test accuracy: 92.044\n",
      "\n",
      "Stacking with meta clf: DecisionTreeClassifier(random_state=123)\n",
      "Train accuracy: 97.848\n",
      "Test accuracy: 92.044\n",
      "\n",
      "Stacking with meta clf: MLPClassifier(random_state=123)\n",
      "Train accuracy: 97.848\n",
      "Test accuracy: 92.044\n",
      "\n",
      "Stacking with meta clf: AdaBoostClassifier()\n",
      "Train accuracy: 97.848\n",
      "Test accuracy: 92.044\n"
     ]
    }
   ],
   "source": [
    "# Vote Classifier (Ensemble)\n",
    "clfs = [log_reg, rf, ada]\n",
    "ens = EnsembleVoteClassifier(clfs = clfs)\n",
    "labels = ['Logistic Regression', \"Random Forest\", \"AdaBoost\", \"Vote Ensemble\"]\n",
    "for clf, label in zip(clfs + [ens], labels):\n",
    "    clf.fit(X_train, y_train)\n",
    "    print(\"Train accuracy: %0.3f [%s]\" % (clf.score(X_train, y_train) * 100, label))\n",
    "    print(\"Test accuracy: %0.3f [%s]\" % (clf.score(X_test, y_test) * 100, label))\n",
    "    print(\"\")\n",
    "\n",
    "# Stacking Classifier\n",
    "meta_clfs = [LogisticRegression(random_state=123), KNeighborsClassifier(), RandomForestClassifier(random_state = 123),\n",
    "             DecisionTreeClassifier(random_state = 123), MLPClassifier(random_state=123), AdaBoostClassifier()]\n",
    "for meta_clf in meta_clfs:\n",
    "    print(\"\\n\" + \"Stacking with meta clf: \" + str(meta_clf))\n",
    "    stack = StackingClassifier(classifiers = clfs, meta_classifier = meta_clf)\n",
    "    stack.fit(X_train, y_train)\n",
    "    print(\"Train accuracy: %0.3f\" % (stack.score(X_train, y_train) * 100))\n",
    "    print(\"Test accuracy: %0.3f\" % (stack.score(X_test, y_test) * 100))"
   ]
  },
  {
   "cell_type": "code",
   "execution_count": 19,
   "metadata": {},
   "outputs": [],
   "source": [
    "# Snubs\n",
    "model = EnsembleVoteClassifier(clfs = clfs)\n",
    "model.fit(X_train, y_train)\n",
    "df['prediction'] = model.predict(df[xcols_alt])"
   ]
  },
  {
   "cell_type": "code",
   "execution_count": 23,
   "metadata": {},
   "outputs": [
    {
     "data": {
      "text/html": [
       "<div>\n",
       "<style scoped>\n",
       "    .dataframe tbody tr th:only-of-type {\n",
       "        vertical-align: middle;\n",
       "    }\n",
       "\n",
       "    .dataframe tbody tr th {\n",
       "        vertical-align: top;\n",
       "    }\n",
       "\n",
       "    .dataframe thead th {\n",
       "        text-align: right;\n",
       "    }\n",
       "</style>\n",
       "<table border=\"1\" class=\"dataframe\">\n",
       "  <thead>\n",
       "    <tr style=\"text-align: right;\">\n",
       "      <th></th>\n",
       "      <th>Name</th>\n",
       "      <th>Year</th>\n",
       "      <th>error</th>\n",
       "    </tr>\n",
       "  </thead>\n",
       "  <tbody>\n",
       "    <tr>\n",
       "      <th>294</th>\n",
       "      <td>Victor Martinez</td>\n",
       "      <td>2014</td>\n",
       "      <td>snub</td>\n",
       "    </tr>\n",
       "    <tr>\n",
       "      <th>382</th>\n",
       "      <td>Albert Pujols</td>\n",
       "      <td>2014</td>\n",
       "      <td>snub</td>\n",
       "    </tr>\n",
       "    <tr>\n",
       "      <th>553</th>\n",
       "      <td>Jose Bautista</td>\n",
       "      <td>2015</td>\n",
       "      <td>snub</td>\n",
       "    </tr>\n",
       "    <tr>\n",
       "      <th>615</th>\n",
       "      <td>Yoenis Céspedes</td>\n",
       "      <td>2015</td>\n",
       "      <td>snub</td>\n",
       "    </tr>\n",
       "    <tr>\n",
       "      <th>644</th>\n",
       "      <td>Chris Davis</td>\n",
       "      <td>2015</td>\n",
       "      <td>snub</td>\n",
       "    </tr>\n",
       "  </tbody>\n",
       "</table>\n",
       "</div>"
      ],
      "text/plain": [
       "                Name  Year error\n",
       "294  Victor Martinez  2014  snub\n",
       "382    Albert Pujols  2014  snub\n",
       "553    Jose Bautista  2015  snub\n",
       "615  Yoenis Céspedes  2015  snub\n",
       "644      Chris Davis  2015  snub"
      ]
     },
     "execution_count": 23,
     "metadata": {},
     "output_type": "execute_result"
    }
   ],
   "source": [
    "error_fp = df[df['allstars'] == 0][df['prediction'] == 1][['Name', 'Year']]\n",
    "error_fp['error'] = \"snub\"\n",
    "error_fn = df[df['allstars'] == 1][df['prediction'] == 0][['Name', 'Year']]\n",
    "error_fn['error'] = \"undeserved\"\n",
    "error = pd.concat([error_fp, error_fn])\n",
    "error.head(5)"
   ]
  },
  {
   "cell_type": "code",
   "execution_count": 28,
   "metadata": {},
   "outputs": [
    {
     "data": {
      "text/plain": [
       "Name\n",
       "Anthony Rizzo    2\n",
       "Brian Dozier     2\n",
       "Joey Votto       2\n",
       "Nelson Cruz      2\n",
       "dtype: int64"
      ]
     },
     "execution_count": 28,
     "metadata": {},
     "output_type": "execute_result"
    }
   ],
   "source": [
    "fp_cnt = error_fp.groupby(['Name']).size()\n",
    "fp_cnt[fp_cnt > 1]"
   ]
  },
  {
   "cell_type": "code",
   "execution_count": 29,
   "metadata": {},
   "outputs": [
    {
     "data": {
      "text/plain": [
       "Name\n",
       "Adam Jones           2\n",
       "Brandon Crawford     3\n",
       "Bryce Harper         2\n",
       "Buster Posey         2\n",
       "J.T. Realmuto        3\n",
       "Joey Gallo           2\n",
       "Jonathan Lucroy      2\n",
       "Josh Harrison        2\n",
       "Kris Bryant          2\n",
       "Mike Moustakas       2\n",
       "Nelson Cruz          2\n",
       "Ozzie Albies         2\n",
       "Robinson Cano        2\n",
       "Salvador Perez       4\n",
       "Todd Frazier         2\n",
       "Troy Tulowitzki      2\n",
       "Willson Contreras    2\n",
       "Yadier Molina        3\n",
       "Yasmani Grandal      2\n",
       "dtype: int64"
      ]
     },
     "execution_count": 29,
     "metadata": {},
     "output_type": "execute_result"
    }
   ],
   "source": [
    "fn_cnt = error_fn.groupby(['Name']).size()\n",
    "fn_cnt[fn_cnt > 1]"
   ]
  },
  {
   "cell_type": "code",
   "execution_count": 31,
   "metadata": {},
   "outputs": [
    {
     "data": {
      "text/plain": [
       "19"
      ]
     },
     "execution_count": 31,
     "metadata": {},
     "output_type": "execute_result"
    }
   ],
   "source": [
    "len(fn_cnt[fn_cnt > 1])"
   ]
  },
  {
   "cell_type": "code",
   "execution_count": null,
   "metadata": {},
   "outputs": [],
   "source": []
  }
 ],
 "metadata": {
  "kernelspec": {
   "display_name": "Python 3",
   "language": "python",
   "name": "python3"
  },
  "language_info": {
   "codemirror_mode": {
    "name": "ipython",
    "version": 3
   },
   "file_extension": ".py",
   "mimetype": "text/x-python",
   "name": "python",
   "nbconvert_exporter": "python",
   "pygments_lexer": "ipython3",
   "version": "3.8.5"
  }
 },
 "nbformat": 4,
 "nbformat_minor": 4
}
