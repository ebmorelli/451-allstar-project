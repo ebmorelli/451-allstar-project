{
 "cells": [
  {
   "cell_type": "code",
   "execution_count": 1,
   "metadata": {},
   "outputs": [],
   "source": [
    "import pandas as pd\n",
    "from sklearn.model_selection import train_test_split, cross_val_score, StratifiedKFold\n",
    "import numpy as np\n",
    "from sklearn.linear_model import LogisticRegression, LinearRegression\n",
    "from sklearn.pipeline import Pipeline\n",
    "from sklearn.preprocessing import StandardScaler, OneHotEncoder\n",
    "from sklearn import datasets\n",
    "from sklearn.cluster import KMeans\n",
    "from sklearn.metrics import confusion_matrix, recall_score, precision_score, accuracy_score, balanced_accuracy_score\n",
    "import matplotlib.pyplot as plt\n",
    "from sklearn.decomposition import PCA\n",
    "from sklearn.ensemble import RandomForestRegressor, RandomForestClassifier, AdaBoostClassifier\n",
    "from sklearn.compose import make_column_transformer\n",
    "from sklearn.impute import SimpleImputer\n",
    "import os\n",
    "from sklearn.model_selection import GridSearchCV\n",
    "from hyperopt import Trials, STATUS_OK, tpe, hp, fmin\n",
    "import hyperopt.pyll.stochastic\n",
    "import optuna\n",
    "from sklearn.neighbors import KNeighborsClassifier\n",
    "from sklearn.tree import DecisionTreeClassifier\n",
    "from sklearn.neural_network import MLPClassifier"
   ]
  },
  {
   "cell_type": "code",
   "execution_count": 2,
   "metadata": {},
   "outputs": [],
   "source": [
    "# pre-processing\n",
    "df = pd.read_csv(\"master_data.csv\")\n",
    "df['RS%'] = df['RS%'].str.rstrip('%').astype('float') / 100.0\n",
    "df['SB%'] = df['SB%'].str.rstrip('%').astype('float') / 100.0\n",
    "df = df.dropna()\n",
    "train, test = train_test_split(df)\n",
    "xcols = [\"Age\", \"G\", \"R\", \"H\", \"HR\", \"RBI\", \"SB\", \"SO\", \"BA\", \"SLG\", \"OPS\", \"Value Ranking\", \"WPA\", \"RS%\", \"SB%\", \"ISO\"]\n",
    "xcols_alt = [\"R\", \"H\", \"HR\", \"RBI\", \"SO\", \"OPS\", \"Value Ranking\"]"
   ]
  },
  {
   "cell_type": "code",
   "execution_count": 3,
   "metadata": {},
   "outputs": [
    {
     "name": "stdout",
     "output_type": "stream",
     "text": [
      "Train Accuracy: 92.537%\n",
      "Valid Accuracy: 93.553%\n"
     ]
    },
    {
     "data": {
      "text/plain": [
       "<AxesSubplot:>"
      ]
     },
     "execution_count": 3,
     "metadata": {},
     "output_type": "execute_result"
    },
    {
     "data": {
      "image/png": "[encoded data removed]",
      "text/plain": [
       "<Figure size 432x288 with 1 Axes>"
      ]
     },
     "metadata": {
      "needs_background": "light"
     },
     "output_type": "display_data"
    }
   ],
   "source": [
    "# Logistic Reg\n",
    "model = Pipeline([\n",
    "    (\"std\", StandardScaler()),\n",
    "    (\"logr\", LogisticRegression())\n",
    "])\n",
    "model.fit(train[xcols], train[\"allstars\"])\n",
    "model.score(test[xcols], test[\"allstars\"])\n",
    "\n",
    "print(f\"Train Accuracy: {model.score(train[xcols], train['allstars'])*100:0.3f}%\")\n",
    "print(f\"Valid Accuracy: {model.score(test[xcols], test['allstars'])*100:0.3f}%\")\n",
    "pd.Series(model[\"logr\"].coef_.reshape(-1), index=xcols).plot.bar()"
   ]
  },
  {
   "cell_type": "code",
   "execution_count": 4,
   "metadata": {},
   "outputs": [
    {
     "name": "stdout",
     "output_type": "stream",
     "text": [
      "Train Accuracy: 92.491%\n",
      "Valid Accuracy: 93.004%\n"
     ]
    },
    {
     "data": {
      "text/plain": [
       "<AxesSubplot:>"
      ]
     },
     "execution_count": 4,
     "metadata": {},
     "output_type": "execute_result"
    },
    {
     "data": {
      "image/png": "[encoded data removed]",
      "text/plain": [
       "<Figure size 432x288 with 1 Axes>"
      ]
     },
     "metadata": {
      "needs_background": "light"
     },
     "output_type": "display_data"
    }
   ],
   "source": [
    "# Logistic Reg w alt features\n",
    "model = Pipeline([\n",
    "    (\"std\", StandardScaler()),\n",
    "    (\"logr\", LogisticRegression())\n",
    "])\n",
    "model.fit(train[xcols_alt], train[\"allstars\"])\n",
    "model.score(test[xcols_alt], test[\"allstars\"])\n",
    "\n",
    "print(f\"Train Accuracy: {model.score(train[xcols_alt], train['allstars'])*100:0.3f}%\")\n",
    "print(f\"Valid Accuracy: {model.score(test[xcols_alt], test['allstars'])*100:0.3f}%\")\n",
    "pd.Series(model[\"logr\"].coef_.reshape(-1), index=xcols_alt).plot.bar()"
   ]
  },
  {
   "cell_type": "code",
   "execution_count": 5,
   "metadata": {},
   "outputs": [
    {
     "data": {
      "text/plain": [
       "array([0.86, 0.07, 0.03, 0.02, 0.01, 0.01, 0.  , 0.  , 0.  , 0.  , 0.  ,\n",
       "       0.  , 0.  , 0.  , 0.  , 0.  ])"
      ]
     },
     "execution_count": 5,
     "metadata": {},
     "output_type": "execute_result"
    }
   ],
   "source": [
    "# Principal Component Analysis\n",
    "\n",
    "df_pca = df[xcols].dropna()\n",
    "pca = PCA(n_components = 16)\n",
    "pca.fit(df_pca)\n",
    "key_df = pd.DataFrame(pca.components_)\n",
    "arr = pca.transform(df_pca)\n",
    "data_df = pd.DataFrame(arr)\n",
    "pca.explained_variance_ratio_.round(2)"
   ]
  },
  {
   "cell_type": "code",
   "execution_count": 6,
   "metadata": {},
   "outputs": [
    {
     "data": {
      "text/plain": [
       "array([0.857, 0.073, 0.03 , 0.017, 0.009, 0.008, 0.004])"
      ]
     },
     "execution_count": 6,
     "metadata": {},
     "output_type": "execute_result"
    }
   ],
   "source": [
    "data_df = pd.DataFrame(pca.fit_transform(df_pca))\n",
    "key_df = pd.DataFrame(pca.components_)\n",
    "pca = PCA(n_components = 7)\n",
    "data_df = pd.DataFrame(pca.fit_transform(df_pca))\n",
    "key_df = pd.DataFrame(pca.components_)\n",
    "pca.explained_variance_ratio_.round(3)"
   ]
  },
  {
   "cell_type": "code",
   "execution_count": 7,
   "metadata": {},
   "outputs": [
    {
     "data": {
      "text/plain": [
       "array([0.857, 0.073, 0.03 , 0.017, 0.009, 0.008, 0.004])"
      ]
     },
     "execution_count": 7,
     "metadata": {},
     "output_type": "execute_result"
    }
   ],
   "source": [
    "pca = PCA(n_components = 7, whiten = False)\n",
    "data_df = pd.DataFrame(pca.fit_transform(df_pca))\n",
    "key_df = pd.DataFrame(pca.components_)\n",
    "pca.explained_variance_ratio_.round(3)"
   ]
  },
  {
   "cell_type": "code",
   "execution_count": 8,
   "metadata": {},
   "outputs": [],
   "source": [
    "component_list = [1,2,3,4,5,6,7,8,9,10,11]"
   ]
  },
  {
   "cell_type": "code",
   "execution_count": 9,
   "metadata": {},
   "outputs": [
    {
     "name": "stdout",
     "output_type": "stream",
     "text": [
      "1     0.856697\n",
      "2     0.929486\n",
      "3     0.959513\n",
      "4     0.976102\n",
      "5     0.985542\n",
      "6     0.993477\n",
      "7     0.997180\n",
      "8     0.998789\n",
      "9     0.999860\n",
      "10    0.999988\n",
      "11    0.999999\n",
      "12    1.000000\n",
      "13    1.000000\n",
      "14    1.000000\n",
      "15    1.000000\n",
      "16    1.000000\n",
      "dtype: float64\n",
      "1     0.475408\n",
      "2     0.587524\n",
      "3     0.679086\n",
      "4     0.745657\n",
      "5     0.807989\n",
      "6     0.865296\n",
      "7     0.912900\n",
      "8     0.943769\n",
      "9     0.973368\n",
      "10    0.984398\n",
      "11    0.991165\n",
      "12    0.994479\n",
      "13    0.997612\n",
      "14    0.999396\n",
      "15    0.999979\n",
      "16    1.000000\n",
      "dtype: float64\n"
     ]
    },
    {
     "data": {
      "image/png": "[encoded data removed]",
      "text/plain": [
       "<Figure size 432x288 with 1 Axes>"
      ]
     },
     "metadata": {
      "needs_background": "light"
     },
     "output_type": "display_data"
    }
   ],
   "source": [
    "def explained(scale):\n",
    "    stages = [(\"imp\", SimpleImputer(strategy=\"most_frequent\"))]\n",
    "    if scale:\n",
    "        stages.append((\"std\", StandardScaler()))\n",
    "    stages.append((\"pca\", PCA()))\n",
    "    p = Pipeline(stages)\n",
    "    p.fit(df[xcols])\n",
    "    #print(p[\"pca\"].components_.round(2))\n",
    "    explained = p[\"pca\"].explained_variance_\n",
    "    s = pd.Series(explained.cumsum() / explained.sum(),\n",
    "                  index=range(1, len(xcols)+1))\n",
    "    print(s)\n",
    "    return s\n",
    "plt.rcParams.update({'font.size': 14})\n",
    "ax = explained(False).plot.line(label=\"not scaled\", ylim=0)\n",
    "explained(True).plot.line(label=\"scaled\", ax=ax)\n",
    "ax.set_xlabel(\"Number of Components\")\n",
    "ax.set_ylabel(\"Explained Variance\")\n",
    "ax.spines[\"top\"].set_visible(False)\n",
    "ax.spines[\"right\"].set_visible(False)\n",
    "ax.legend(frameon=False)\n",
    "ax.set_title(\"Figure 2: Cumulative Principal Components\", pad=20)\n",
    "\n",
    "plt.savefig(\"Fig 2.png\", bbox_inches = 'tight')"
   ]
  },
  {
   "cell_type": "code",
   "execution_count": 10,
   "metadata": {},
   "outputs": [
    {
     "name": "stdout",
     "output_type": "stream",
     "text": [
      "Train Accuracy: 93.773%\n",
      "Valid Accuracy: 92.044%\n",
      "Alt Train Accuracy: 93.544%\n",
      "Alt Valid Accuracy: 91.770%\n"
     ]
    }
   ],
   "source": [
    "# Knn\n",
    "\n",
    "knn = KNeighborsClassifier(n_neighbors=5)\n",
    "knn.fit(train[xcols], train[\"allstars\"])\n",
    "print(f\"Train Accuracy: {knn.score(train[xcols], train['allstars'])*100:0.3f}%\")\n",
    "print(f\"Valid Accuracy: {knn.score(test[xcols], test['allstars'])*100:0.3f}%\")\n",
    "knn.fit(train[xcols_alt], train[\"allstars\"])\n",
    "print(f\"Alt Train Accuracy: {knn.score(train[xcols_alt], train['allstars'])*100:0.3f}%\")\n",
    "print(f\"Alt Valid Accuracy: {knn.score(test[xcols_alt], test['allstars'])*100:0.3f}%\")"
   ]
  },
  {
   "cell_type": "code",
   "execution_count": 11,
   "metadata": {},
   "outputs": [
    {
     "name": "stdout",
     "output_type": "stream",
     "text": [
      "Train Accuracy: 99.771%\n",
      "Valid Accuracy: 92.318%\n",
      "Alt Train Accuracy: 99.542%\n",
      "Alt Valid Accuracy: 92.181%\n"
     ]
    }
   ],
   "source": [
    "# Random Forest\n",
    "\n",
    "clf = RandomForestClassifier(max_depth=12, random_state=0, n_estimators = 100, criterion = \"gini\", bootstrap = True, min_samples_split = 4, max_features = \"sqrt\")\n",
    "clf.fit(train[xcols], train[\"allstars\"])\n",
    "print(f\"Train Accuracy: {clf.score(train[xcols], train['allstars'])*100:0.3f}%\")\n",
    "print(f\"Valid Accuracy: {clf.score(test[xcols], test['allstars'])*100:0.3f}%\")\n",
    "clf.fit(train[xcols_alt], train[\"allstars\"])\n",
    "print(f\"Alt Train Accuracy: {clf.score(train[xcols_alt], train['allstars'])*100:0.3f}%\")\n",
    "print(f\"Alt Valid Accuracy: {clf.score(test[xcols_alt], test['allstars'])*100:0.3f}%\")"
   ]
  },
  {
   "cell_type": "code",
   "execution_count": 12,
   "metadata": {},
   "outputs": [
    {
     "name": "stdout",
     "output_type": "stream",
     "text": [
      "Train Accuracy: 99.542%\n",
      "Valid Accuracy: 89.163%\n",
      "Alt Train Accuracy: 99.176%\n",
      "Alt Valid Accuracy: 89.026%\n"
     ]
    }
   ],
   "source": [
    "# Decision Tree\n",
    "\n",
    "dtc = DecisionTreeClassifier(max_depth=12, max_features = \"auto\")\n",
    "dtc.fit(train[xcols], train[\"allstars\"])\n",
    "print(f\"Train Accuracy: {dtc.score(train[xcols], train['allstars'])*100:0.3f}%\")\n",
    "print(f\"Valid Accuracy: {dtc.score(test[xcols], test['allstars'])*100:0.3f}%\")\n",
    "dtc.fit(train[xcols_alt], train[\"allstars\"])\n",
    "print(f\"Alt Train Accuracy: {dtc.score(train[xcols_alt], train['allstars'])*100:0.3f}%\")\n",
    "print(f\"Alt Valid Accuracy: {dtc.score(test[xcols_alt], test['allstars'])*100:0.3f}%\")"
   ]
  },
  {
   "cell_type": "code",
   "execution_count": 13,
   "metadata": {},
   "outputs": [
    {
     "name": "stdout",
     "output_type": "stream",
     "text": [
      "Fitting 10 folds for each of 320 candidates, totalling 3200 fits\n",
      "Train Accuracy: 92.537%\n",
      "Valid Accuracy: 92.730%\n"
     ]
    },
    {
     "name": "stderr",
     "output_type": "stream",
     "text": [
      "c:\\users\\edmo2\\appdata\\local\\programs\\python\\python38-32\\lib\\site-packages\\sklearn\\model_selection\\_validation.py:372: FitFailedWarning: \n",
      "800 fits failed out of a total of 3200.\n",
      "The score on these train-test partitions for these parameters will be set to nan.\n",
      "If these failures are not expected, you can try to debug them by setting error_score='raise'.\n",
      "\n",
      "Below are more details about the failures:\n",
      "--------------------------------------------------------------------------------\n",
      "800 fits failed with the following error:\n",
      "Traceback (most recent call last):\n",
      "  File \"c:\\users\\edmo2\\appdata\\local\\programs\\python\\python38-32\\lib\\site-packages\\sklearn\\model_selection\\_validation.py\", line 681, in _fit_and_score\n",
      "    estimator.fit(X_train, y_train, **fit_params)\n",
      "  File \"c:\\users\\edmo2\\appdata\\local\\programs\\python\\python38-32\\lib\\site-packages\\sklearn\\tree\\_classes.py\", line 937, in fit\n",
      "    super().fit(\n",
      "  File \"c:\\users\\edmo2\\appdata\\local\\programs\\python\\python38-32\\lib\\site-packages\\sklearn\\tree\\_classes.py\", line 250, in fit\n",
      "    raise ValueError(\n",
      "ValueError: min_samples_split must be an integer greater than 1 or a float in (0.0, 1.0]; got the integer 1\n",
      "\n",
      "  warnings.warn(some_fits_failed_message, FitFailedWarning)\n",
      "c:\\users\\edmo2\\appdata\\local\\programs\\python\\python38-32\\lib\\site-packages\\sklearn\\model_selection\\_search.py:969: UserWarning: One or more of the test scores are non-finite: [       nan 0.91437309 0.91437309 0.91437309        nan 0.91437309\n",
      " 0.91437309 0.91437309        nan 0.91437309 0.91437309 0.91437309\n",
      "        nan 0.9226174  0.9226174  0.9226174         nan 0.9120837\n",
      " 0.9120837  0.9120837         nan 0.9120837  0.9120837  0.9120837\n",
      "        nan 0.9120837  0.9120837  0.9120837         nan 0.92034058\n",
      " 0.92034058 0.92034058        nan 0.90568053 0.90522182 0.90385195\n",
      "        nan 0.90568053 0.90522182 0.90385195        nan 0.90568053\n",
      " 0.90522182 0.90385195        nan 0.9056931  0.90614972 0.9056931\n",
      "        nan 0.89150643 0.89652717 0.90476939        nan 0.89150643\n",
      " 0.89652717 0.90476939        nan 0.89150643 0.89652717 0.90476939\n",
      "        nan 0.89791169 0.89836622 0.89377697        nan 0.89515521\n",
      " 0.89973399 0.89699426        nan 0.89515521 0.89973399 0.89699426\n",
      "        nan 0.89515521 0.89973399 0.89699426        nan 0.88602069\n",
      " 0.89012609 0.89150224        nan 0.89468602 0.88828076 0.89514055\n",
      "        nan 0.89468602 0.88828076 0.89514055        nan 0.89468602\n",
      " 0.88828076 0.89514055        nan 0.8850886  0.88829123 0.88737799\n",
      "        nan 0.89012191 0.88827238 0.89057853        nan 0.89012191\n",
      " 0.88827238 0.89057853        nan 0.89012191 0.88827238 0.89057853\n",
      "        nan 0.88234259 0.88829123 0.88921285        nan 0.8924071\n",
      " 0.89377068 0.89743831        nan 0.8924071  0.89377068 0.89743831\n",
      "        nan 0.8924071  0.89377068 0.89743831        nan 0.8855536\n",
      " 0.88783252 0.89013028        nan 0.90431276 0.89011562 0.89560555\n",
      "        nan 0.90431276 0.89011562 0.89560555        nan 0.90431276\n",
      " 0.89011562 0.89560555        nan 0.88371874 0.88783252 0.88921285\n",
      "        nan 0.90431276 0.89011562 0.89560555        nan 0.90431276\n",
      " 0.89011562 0.89560555        nan 0.90431276 0.89011562 0.89560555\n",
      "        nan 0.88371874 0.88783252 0.88921285        nan 0.90705249\n",
      " 0.90705249 0.90705249        nan 0.90705249 0.90705249 0.90705249\n",
      "        nan 0.90705249 0.90705249 0.90705249        nan 0.91116836\n",
      " 0.91116836 0.91116836        nan 0.91665619 0.91711491 0.91711491\n",
      "        nan 0.91665619 0.91711491 0.91711491        nan 0.91665619\n",
      " 0.91711491 0.91711491        nan 0.91575761 0.91575761 0.91575761\n",
      "        nan 0.90199824 0.9038331  0.9015479         nan 0.90199824\n",
      " 0.9038331  0.9015479         nan 0.90199824 0.9038331  0.9015479\n",
      "        nan 0.90980478 0.90980478 0.90889154        nan 0.89560136\n",
      " 0.89284906 0.90385195        nan 0.89560136 0.89284906 0.90385195\n",
      "        nan 0.89560136 0.89284906 0.90385195        nan 0.89834318\n",
      " 0.89879561 0.90291148        nan 0.8937644  0.88965691 0.890124\n",
      "        nan 0.8937644  0.88965691 0.890124          nan 0.8937644\n",
      " 0.88965691 0.890124          nan 0.89331406 0.89193792 0.89971932\n",
      "        nan 0.8987998  0.89468602 0.8914792         nan 0.8987998\n",
      " 0.89468602 0.8914792         nan 0.8987998  0.89468602 0.8914792\n",
      "        nan 0.89148548 0.89194629 0.89286582        nan 0.89284906\n",
      " 0.88965062 0.90063676        nan 0.89284906 0.88965062 0.90063676\n",
      "        nan 0.89284906 0.88965062 0.90063676        nan 0.88873319\n",
      " 0.8914813  0.89378116        nan 0.89605169 0.89330778 0.89238825\n",
      "        nan 0.89605169 0.89330778 0.89238825        nan 0.89605169\n",
      " 0.89330778 0.89238825        nan 0.88827448 0.88965062 0.89286582\n",
      "        nan 0.89515102 0.89834318 0.89009468        nan 0.89515102\n",
      " 0.89834318 0.89009468        nan 0.89515102 0.89834318 0.89009468\n",
      "        nan 0.88873319 0.89193582 0.89332454        nan 0.89515102\n",
      " 0.89834318 0.89009468        nan 0.89515102 0.89834318 0.89009468\n",
      "        nan 0.89515102 0.89834318 0.89009468        nan 0.88873319\n",
      " 0.89193582 0.89332454]\n",
      "  warnings.warn(\n"
     ]
    }
   ],
   "source": [
    "# Grid Search for best params\n",
    "dtc = DecisionTreeClassifier(random_state=123)\n",
    "\n",
    "params =  {\n",
    "    'min_samples_split': [1, 2, 3, 4],\n",
    "    'max_depth': [2, 4, 6, 8, 10, 12, 14, 16, 24, None],\n",
    "    'max_features': [\"auto\",\"sqrt\", \"log2\", None],\n",
    "    'criterion': [\"gini\", \"entropy\"]\n",
    "}\n",
    "\n",
    "grid = GridSearchCV(estimator=dtc,\n",
    "                    param_grid=params,\n",
    "                    cv=10,\n",
    "                    n_jobs=1,\n",
    "                    verbose=1)\n",
    "\n",
    "grid.fit(train[xcols], train['allstars'])\n",
    "\n",
    "# Decision Tree with grid search params\n",
    "\n",
    "dtc = DecisionTreeClassifier(max_depth = grid.best_params_['max_depth'],\n",
    "                             max_features = grid.best_params_['max_features'],\n",
    "                             min_samples_split = grid.best_params_['min_samples_split'], \n",
    "                             criterion = grid.best_params_['criterion'])\n",
    "dtc.fit(train[xcols], train[\"allstars\"])\n",
    "print(f\"Train Accuracy: {dtc.score(train[xcols], train['allstars'])*100:0.3f}%\")\n",
    "print(f\"Valid Accuracy: {dtc.score(test[xcols], test['allstars'])*100:0.3f}%\")"
   ]
  },
  {
   "cell_type": "code",
   "execution_count": 14,
   "metadata": {},
   "outputs": [
    {
     "name": "stdout",
     "output_type": "stream",
     "text": [
      "Fitting 10 folds for each of 320 candidates, totalling 3200 fits\n",
      "Train Accuracy: 92.537%\n",
      "Valid Accuracy: 92.730%\n"
     ]
    },
    {
     "name": "stderr",
     "output_type": "stream",
     "text": [
      "c:\\users\\edmo2\\appdata\\local\\programs\\python\\python38-32\\lib\\site-packages\\sklearn\\model_selection\\_validation.py:372: FitFailedWarning: \n",
      "800 fits failed out of a total of 3200.\n",
      "The score on these train-test partitions for these parameters will be set to nan.\n",
      "If these failures are not expected, you can try to debug them by setting error_score='raise'.\n",
      "\n",
      "Below are more details about the failures:\n",
      "--------------------------------------------------------------------------------\n",
      "800 fits failed with the following error:\n",
      "Traceback (most recent call last):\n",
      "  File \"c:\\users\\edmo2\\appdata\\local\\programs\\python\\python38-32\\lib\\site-packages\\sklearn\\model_selection\\_validation.py\", line 681, in _fit_and_score\n",
      "    estimator.fit(X_train, y_train, **fit_params)\n",
      "  File \"c:\\users\\edmo2\\appdata\\local\\programs\\python\\python38-32\\lib\\site-packages\\sklearn\\tree\\_classes.py\", line 937, in fit\n",
      "    super().fit(\n",
      "  File \"c:\\users\\edmo2\\appdata\\local\\programs\\python\\python38-32\\lib\\site-packages\\sklearn\\tree\\_classes.py\", line 250, in fit\n",
      "    raise ValueError(\n",
      "ValueError: min_samples_split must be an integer greater than 1 or a float in (0.0, 1.0]; got the integer 1\n",
      "\n",
      "  warnings.warn(some_fits_failed_message, FitFailedWarning)\n",
      "c:\\users\\edmo2\\appdata\\local\\programs\\python\\python38-32\\lib\\site-packages\\sklearn\\model_selection\\_search.py:969: UserWarning: One or more of the test scores are non-finite: [       nan 0.91300532 0.91300532 0.91300532        nan 0.91300532\n",
      " 0.91300532 0.91300532        nan 0.91300532 0.91300532 0.91300532\n",
      "        nan 0.92399355 0.92399355 0.92399355        nan 0.91620376\n",
      " 0.91620376 0.91620376        nan 0.91620376 0.91620376 0.91620376\n",
      "        nan 0.91620376 0.91620376 0.91620376        nan 0.91940849\n",
      " 0.91940849 0.91940849        nan 0.90796992 0.9075154  0.9097985\n",
      "        nan 0.90796992 0.9075154  0.9097985         nan 0.90796992\n",
      " 0.9075154  0.9097985         nan 0.90247371 0.90293243 0.90293243\n",
      "        nan 0.89925851 0.89649784 0.90155209        nan 0.89925851\n",
      " 0.89649784 0.90155209        nan 0.89925851 0.89649784 0.90155209\n",
      "        nan 0.89468812 0.89606217 0.89880608        nan 0.89196096\n",
      " 0.90245905 0.9042981         nan 0.89196096 0.90245905 0.9042981\n",
      "        nan 0.89196096 0.90245905 0.9042981         nan 0.89285535\n",
      " 0.89330778 0.89423149        nan 0.88459218 0.88964643 0.89056386\n",
      "        nan 0.88459218 0.88964643 0.89056386        nan 0.88459218\n",
      " 0.88964643 0.89056386        nan 0.89055758 0.89513845 0.89606426\n",
      "        nan 0.89195048 0.88371245 0.89286582        nan 0.89195048\n",
      " 0.88371245 0.89286582        nan 0.89195048 0.88371245 0.89286582\n",
      "        nan 0.89330778 0.89285744 0.89834946        nan 0.89240082\n",
      " 0.8841586  0.89193373        nan 0.89240082 0.8841586  0.89193373\n",
      "        nan 0.89240082 0.8841586  0.89193373        nan 0.89239035\n",
      " 0.89377068 0.89514264        nan 0.88690461 0.87638767 0.89193373\n",
      "        nan 0.88690461 0.87638767 0.89193373        nan 0.88690461\n",
      " 0.87638767 0.89193373        nan 0.88872481 0.89239663 0.89422731\n",
      "        nan 0.88690461 0.87638767 0.89193373        nan 0.88690461\n",
      " 0.87638767 0.89193373        nan 0.88690461 0.87638767 0.89193373\n",
      "        nan 0.88872481 0.89239663 0.89422731        nan 0.91300323\n",
      " 0.91300323 0.91300323        nan 0.91300323 0.91300323 0.91300323\n",
      "        nan 0.91300323 0.91300323 0.91300323        nan 0.91208579\n",
      " 0.91208579 0.91208579        nan 0.91894768 0.91894768 0.91894768\n",
      "        nan 0.91894768 0.91894768 0.91894768        nan 0.91894768\n",
      " 0.91894768 0.91894768        nan 0.91849943 0.91849943 0.91849943\n",
      "        nan 0.91161451 0.91161451 0.91116417        nan 0.91161451\n",
      " 0.91161451 0.91116417        nan 0.91161451 0.91161451 0.91116417\n",
      "        nan 0.91208579 0.91070965 0.91070965        nan 0.89789075\n",
      " 0.89330568 0.89834318        nan 0.89789075 0.89330568 0.89834318\n",
      "        nan 0.89789075 0.89330568 0.89834318        nan 0.89651879\n",
      " 0.89559926 0.89651879        nan 0.88918562 0.89377697 0.89834946\n",
      "        nan 0.88918562 0.89377697 0.89834946        nan 0.88918562\n",
      " 0.89377697 0.89834946        nan 0.89193582 0.89056177 0.89285325\n",
      "        nan 0.88232583 0.88874576 0.89650622        nan 0.88232583\n",
      " 0.88874576 0.89650622        nan 0.88232583 0.88874576 0.89650622\n",
      "        nan 0.89240501 0.89057015 0.89102677        nan 0.8946944\n",
      " 0.88553475 0.88735076        nan 0.8946944  0.88553475 0.88735076\n",
      "        nan 0.8946944  0.88553475 0.88735076        nan 0.88598928\n",
      " 0.88324117 0.88552428        nan 0.89147082 0.88691299 0.89559298\n",
      "        nan 0.89147082 0.88691299 0.89559298        nan 0.89147082\n",
      " 0.88691299 0.89559298        nan 0.88186293 0.88278246 0.88507184\n",
      "        nan 0.89102467 0.88553894 0.89514683        nan 0.89102467\n",
      " 0.88553894 0.89514683        nan 0.89102467 0.88553894 0.89514683\n",
      "        nan 0.88460685 0.87957564 0.88414813        nan 0.89102467\n",
      " 0.88553894 0.89514683        nan 0.89102467 0.88553894 0.89514683\n",
      "        nan 0.89102467 0.88553894 0.89514683        nan 0.88460685\n",
      " 0.87957564 0.88414813]\n",
      "  warnings.warn(\n"
     ]
    }
   ],
   "source": [
    "# Grid Search for best params w alt features\n",
    "dtc = DecisionTreeClassifier(random_state=123)\n",
    "\n",
    "params =  {\n",
    "    'min_samples_split': [1, 2, 3, 4],\n",
    "    'max_depth': [2, 4, 6, 8, 10, 12, 14, 16, 24, None],\n",
    "    'max_features': [\"auto\",\"sqrt\", \"log2\", None],\n",
    "    'criterion': [\"gini\", \"entropy\"]\n",
    "}\n",
    "\n",
    "grid = GridSearchCV(estimator=dtc,\n",
    "                    param_grid=params,\n",
    "                    cv=10,\n",
    "                    n_jobs=1,\n",
    "                    verbose=1)\n",
    "\n",
    "grid.fit(train[xcols_alt], train['allstars'])\n",
    "\n",
    "# Decision Tree with grid search params w alt features\n",
    "\n",
    "dtc = DecisionTreeClassifier(max_depth = grid.best_params_['max_depth'],\n",
    "                             max_features = grid.best_params_['max_features'],\n",
    "                             min_samples_split = grid.best_params_['min_samples_split'], \n",
    "                             criterion = grid.best_params_['criterion'])\n",
    "dtc.fit(train[xcols_alt], train[\"allstars\"])\n",
    "print(f\"Train Accuracy: {dtc.score(train[xcols_alt], train['allstars'])*100:0.3f}%\")\n",
    "print(f\"Valid Accuracy: {dtc.score(test[xcols_alt], test['allstars'])*100:0.3f}%\")"
   ]
  },
  {
   "cell_type": "code",
   "execution_count": 15,
   "metadata": {},
   "outputs": [
    {
     "name": "stdout",
     "output_type": "stream",
     "text": [
      "Train Accuracy: 92.766%\n",
      "Valid Accuracy: 91.084%\n",
      "Alt Train Accuracy: 90.842%\n",
      "Alt Valid Accuracy: 91.084%\n"
     ]
    }
   ],
   "source": [
    "# MLP\n",
    "\n",
    "mlp = MLPClassifier(random_state=0, max_iter = 300)\n",
    "mlp.fit(train[xcols], train[\"allstars\"])\n",
    "print(f\"Train Accuracy: {mlp.score(train[xcols], train['allstars'])*100:0.3f}%\")\n",
    "print(f\"Valid Accuracy: {mlp.score(test[xcols], test['allstars'])*100:0.3f}%\")\n",
    "mlp.fit(train[xcols_alt], train[\"allstars\"])\n",
    "print(f\"Alt Train Accuracy: {mlp.score(train[xcols_alt], train['allstars'])*100:0.3f}%\")\n",
    "print(f\"Alt Valid Accuracy: {mlp.score(test[xcols_alt], test['allstars'])*100:0.3f}%\")"
   ]
  },
  {
   "cell_type": "code",
   "execution_count": 16,
   "metadata": {},
   "outputs": [
    {
     "name": "stdout",
     "output_type": "stream",
     "text": [
      "Train Accuracy: 93.407%\n",
      "Valid Accuracy: 91.221%\n",
      "Alt Train Accuracy: 93.315%\n",
      "Alt Valid Accuracy: 92.181%\n"
     ]
    }
   ],
   "source": [
    "# AdaBoost\n",
    "\n",
    "ada = AdaBoostClassifier()\n",
    "ada.fit(train[xcols], train[\"allstars\"])\n",
    "print(f\"Train Accuracy: {ada.score(train[xcols], train['allstars'])*100:0.3f}%\")\n",
    "print(f\"Valid Accuracy: {ada.score(test[xcols], test['allstars'])*100:0.3f}%\")\n",
    "ada.fit(train[xcols_alt], train[\"allstars\"])\n",
    "print(f\"Alt Train Accuracy: {ada.score(train[xcols_alt], train['allstars'])*100:0.3f}%\")\n",
    "print(f\"Alt Valid Accuracy: {ada.score(test[xcols_alt], test['allstars'])*100:0.3f}%\")"
   ]
  },
  {
   "cell_type": "code",
   "execution_count": 17,
   "metadata": {},
   "outputs": [],
   "source": [
    "def optimization_objective(trial, X_train, y_train, cv=5):\n",
    "\n",
    "    \n",
    "    params =  {\n",
    "        'min_samples_split': trial.suggest_int('min_samples_split', 2, 10),\n",
    "        'min_impurity_decrease': trial.suggest_uniform('min_impurity_decrease', 0.0, 0.5),\n",
    "        'max_depth': trial.suggest_categorical('max_depth', [6, 16, None])\n",
    "    }\n",
    "\n",
    "    cv_iterator = StratifiedKFold(n_splits=cv, shuffle=True, random_state=123)\n",
    "\n",
    "    cv_scores = np.zeros(cv)\n",
    "    for idx, (train_sub_idx, valid_idx) in enumerate(cv_iterator.split(X_train, y_train)):\n",
    "        \n",
    "        X_train_sub, X_valid = X_train[train_sub_idx], X_train[valid_idx]\n",
    "        y_train_sub, y_valid = y_train[train_sub_idx], y_train[valid_idx]\n",
    "        \n",
    "\n",
    "        model = DecisionTreeClassifier(**params, random_state=123)\n",
    "        model.fit(X_train_sub, y_train_sub)\n",
    "        preds = model.score(X_valid, y_valid)\n",
    "        \n",
    "        cv_scores[idx] = preds\n",
    "\n",
    "    return np.mean(cv_scores)"
   ]
  },
  {
   "cell_type": "code",
   "execution_count": null,
   "metadata": {},
   "outputs": [],
   "source": []
  }
 ],
 "metadata": {
  "kernelspec": {
   "display_name": "Python 3",
   "language": "python",
   "name": "python3"
  },
  "language_info": {
   "codemirror_mode": {
    "name": "ipython",
    "version": 3
   },
   "file_extension": ".py",
   "mimetype": "text/x-python",
   "name": "python",
   "nbconvert_exporter": "python",
   "pygments_lexer": "ipython3",
   "version": "3.8.5"
  }
 },
 "nbformat": 4,
 "nbformat_minor": 4
}
