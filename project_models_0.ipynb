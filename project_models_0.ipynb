{
 "cells": [
  {
   "cell_type": "code",
   "execution_count": 1,
   "metadata": {},
   "outputs": [],
   "source": [
    "import pandas as pd\n",
    "from sklearn.model_selection import train_test_split, cross_val_score, StratifiedKFold, RepeatedStratifiedKFold\n",
    "import numpy as np\n",
    "from sklearn.linear_model import LogisticRegression, LinearRegression\n",
    "from sklearn.pipeline import Pipeline\n",
    "from sklearn.preprocessing import StandardScaler, OneHotEncoder\n",
    "from sklearn import datasets\n",
    "from sklearn.cluster import KMeans\n",
    "from sklearn.metrics import confusion_matrix, recall_score, precision_score, accuracy_score, balanced_accuracy_score\n",
    "import matplotlib.pyplot as plt\n",
    "from sklearn.decomposition import PCA\n",
    "from sklearn.ensemble import RandomForestRegressor, RandomForestClassifier, AdaBoostClassifier\n",
    "from sklearn.compose import make_column_transformer\n",
    "from sklearn.impute import SimpleImputer\n",
    "import os\n",
    "from sklearn.model_selection import GridSearchCV\n",
    "from hyperopt import Trials, STATUS_OK, tpe, hp, fmin\n",
    "import hyperopt.pyll.stochastic\n",
    "import optuna\n",
    "from sklearn.neighbors import KNeighborsClassifier\n",
    "from sklearn.tree import DecisionTreeClassifier\n",
    "from sklearn.neural_network import MLPClassifier"
   ]
  },
  {
   "cell_type": "code",
   "execution_count": 2,
   "metadata": {},
   "outputs": [],
   "source": [
    "# pre-processing\n",
    "df = pd.read_csv(\"master_data.csv\")\n",
    "df['RS%'] = df['RS%'].str.rstrip('%').astype('float') / 100.0\n",
    "df['SB%'] = df['SB%'].str.rstrip('%').astype('float') / 100.0\n",
    "df = df.dropna()\n",
    "train, test = train_test_split(df)\n",
    "xcols = [\"Age\", \"G\", \"R\", \"H\", \"HR\", \"RBI\", \"SB\", \"SO\", \"BA\", \"SLG\", \"OPS\", \"Value Ranking\", \"WPA\", \"RS%\", \"SB%\", \"ISO\"]\n",
    "xcols_alt = [\"R\", \"H\", \"HR\", \"RBI\", \"SO\", \"OPS\", \"Value Ranking\"]"
   ]
  },
  {
   "cell_type": "code",
   "execution_count": 3,
   "metadata": {},
   "outputs": [
    {
     "name": "stdout",
     "output_type": "stream",
     "text": [
      "Train Accuracy: 92.949%\n",
      "Valid Accuracy: 92.593%\n"
     ]
    },
    {
     "data": {
      "text/plain": [
       "<AxesSubplot:>"
      ]
     },
     "execution_count": 3,
     "metadata": {},
     "output_type": "execute_result"
    },
    {
     "data": {
      "image/png": "[encoded data removed]",
      "text/plain": [
       "<Figure size 432x288 with 1 Axes>"
      ]
     },
     "metadata": {
      "needs_background": "light"
     },
     "output_type": "display_data"
    }
   ],
   "source": [
    "# Logistic Reg\n",
    "model = Pipeline([\n",
    "    (\"std\", StandardScaler()),\n",
    "    (\"logr\", LogisticRegression())\n",
    "])\n",
    "model.fit(train[xcols], train[\"allstars\"])\n",
    "model.score(test[xcols], test[\"allstars\"])\n",
    "\n",
    "print(f\"Train Accuracy: {model.score(train[xcols], train['allstars'])*100:0.3f}%\")\n",
    "print(f\"Valid Accuracy: {model.score(test[xcols], test['allstars'])*100:0.3f}%\")\n",
    "pd.Series(model[\"logr\"].coef_.reshape(-1), index=xcols).plot.bar()"
   ]
  },
  {
   "cell_type": "code",
   "execution_count": 4,
   "metadata": {},
   "outputs": [
    {
     "name": "stdout",
     "output_type": "stream",
     "text": [
      "Fitting 10 folds for each of 12 candidates, totalling 120 fits\n"
     ]
    },
    {
     "name": "stderr",
     "output_type": "stream",
     "text": [
      "c:\\users\\olson\\appdata\\local\\programs\\python\\python38-32\\lib\\site-packages\\sklearn\\linear_model\\_logistic.py:814: ConvergenceWarning: lbfgs failed to converge (status=1):\n",
      "STOP: TOTAL NO. of ITERATIONS REACHED LIMIT.\n",
      "\n",
      "Increase the number of iterations (max_iter) or scale the data as shown in:\n",
      "    https://scikit-learn.org/stable/modules/preprocessing.html\n",
      "Please also refer to the documentation for alternative solver options:\n",
      "    https://scikit-learn.org/stable/modules/linear_model.html#logistic-regression\n",
      "  n_iter_i = _check_optimize_result(\n",
      "c:\\users\\olson\\appdata\\local\\programs\\python\\python38-32\\lib\\site-packages\\sklearn\\linear_model\\_logistic.py:814: ConvergenceWarning: lbfgs failed to converge (status=1):\n",
      "STOP: TOTAL NO. of ITERATIONS REACHED LIMIT.\n",
      "\n",
      "Increase the number of iterations (max_iter) or scale the data as shown in:\n",
      "    https://scikit-learn.org/stable/modules/preprocessing.html\n",
      "Please also refer to the documentation for alternative solver options:\n",
      "    https://scikit-learn.org/stable/modules/linear_model.html#logistic-regression\n",
      "  n_iter_i = _check_optimize_result(\n",
      "c:\\users\\olson\\appdata\\local\\programs\\python\\python38-32\\lib\\site-packages\\sklearn\\linear_model\\_logistic.py:814: ConvergenceWarning: lbfgs failed to converge (status=1):\n",
      "STOP: TOTAL NO. of ITERATIONS REACHED LIMIT.\n",
      "\n",
      "Increase the number of iterations (max_iter) or scale the data as shown in:\n",
      "    https://scikit-learn.org/stable/modules/preprocessing.html\n",
      "Please also refer to the documentation for alternative solver options:\n",
      "    https://scikit-learn.org/stable/modules/linear_model.html#logistic-regression\n",
      "  n_iter_i = _check_optimize_result(\n",
      "c:\\users\\olson\\appdata\\local\\programs\\python\\python38-32\\lib\\site-packages\\sklearn\\linear_model\\_logistic.py:814: ConvergenceWarning: lbfgs failed to converge (status=1):\n",
      "STOP: TOTAL NO. of ITERATIONS REACHED LIMIT.\n",
      "\n",
      "Increase the number of iterations (max_iter) or scale the data as shown in:\n",
      "    https://scikit-learn.org/stable/modules/preprocessing.html\n",
      "Please also refer to the documentation for alternative solver options:\n",
      "    https://scikit-learn.org/stable/modules/linear_model.html#logistic-regression\n",
      "  n_iter_i = _check_optimize_result(\n",
      "c:\\users\\olson\\appdata\\local\\programs\\python\\python38-32\\lib\\site-packages\\sklearn\\linear_model\\_logistic.py:814: ConvergenceWarning: lbfgs failed to converge (status=1):\n",
      "STOP: TOTAL NO. of ITERATIONS REACHED LIMIT.\n",
      "\n",
      "Increase the number of iterations (max_iter) or scale the data as shown in:\n",
      "    https://scikit-learn.org/stable/modules/preprocessing.html\n",
      "Please also refer to the documentation for alternative solver options:\n",
      "    https://scikit-learn.org/stable/modules/linear_model.html#logistic-regression\n",
      "  n_iter_i = _check_optimize_result(\n",
      "c:\\users\\olson\\appdata\\local\\programs\\python\\python38-32\\lib\\site-packages\\sklearn\\linear_model\\_logistic.py:814: ConvergenceWarning: lbfgs failed to converge (status=1):\n",
      "STOP: TOTAL NO. of ITERATIONS REACHED LIMIT.\n",
      "\n",
      "Increase the number of iterations (max_iter) or scale the data as shown in:\n",
      "    https://scikit-learn.org/stable/modules/preprocessing.html\n",
      "Please also refer to the documentation for alternative solver options:\n",
      "    https://scikit-learn.org/stable/modules/linear_model.html#logistic-regression\n",
      "  n_iter_i = _check_optimize_result(\n",
      "c:\\users\\olson\\appdata\\local\\programs\\python\\python38-32\\lib\\site-packages\\sklearn\\linear_model\\_logistic.py:814: ConvergenceWarning: lbfgs failed to converge (status=1):\n",
      "STOP: TOTAL NO. of ITERATIONS REACHED LIMIT.\n",
      "\n",
      "Increase the number of iterations (max_iter) or scale the data as shown in:\n",
      "    https://scikit-learn.org/stable/modules/preprocessing.html\n",
      "Please also refer to the documentation for alternative solver options:\n",
      "    https://scikit-learn.org/stable/modules/linear_model.html#logistic-regression\n",
      "  n_iter_i = _check_optimize_result(\n",
      "c:\\users\\olson\\appdata\\local\\programs\\python\\python38-32\\lib\\site-packages\\sklearn\\linear_model\\_logistic.py:814: ConvergenceWarning: lbfgs failed to converge (status=1):\n",
      "STOP: TOTAL NO. of ITERATIONS REACHED LIMIT.\n",
      "\n",
      "Increase the number of iterations (max_iter) or scale the data as shown in:\n",
      "    https://scikit-learn.org/stable/modules/preprocessing.html\n",
      "Please also refer to the documentation for alternative solver options:\n",
      "    https://scikit-learn.org/stable/modules/linear_model.html#logistic-regression\n",
      "  n_iter_i = _check_optimize_result(\n",
      "c:\\users\\olson\\appdata\\local\\programs\\python\\python38-32\\lib\\site-packages\\sklearn\\linear_model\\_logistic.py:814: ConvergenceWarning: lbfgs failed to converge (status=1):\n",
      "STOP: TOTAL NO. of ITERATIONS REACHED LIMIT.\n",
      "\n",
      "Increase the number of iterations (max_iter) or scale the data as shown in:\n",
      "    https://scikit-learn.org/stable/modules/preprocessing.html\n",
      "Please also refer to the documentation for alternative solver options:\n",
      "    https://scikit-learn.org/stable/modules/linear_model.html#logistic-regression\n",
      "  n_iter_i = _check_optimize_result(\n",
      "c:\\users\\olson\\appdata\\local\\programs\\python\\python38-32\\lib\\site-packages\\sklearn\\linear_model\\_logistic.py:814: ConvergenceWarning: lbfgs failed to converge (status=1):\n",
      "STOP: TOTAL NO. of ITERATIONS REACHED LIMIT.\n",
      "\n",
      "Increase the number of iterations (max_iter) or scale the data as shown in:\n",
      "    https://scikit-learn.org/stable/modules/preprocessing.html\n",
      "Please also refer to the documentation for alternative solver options:\n",
      "    https://scikit-learn.org/stable/modules/linear_model.html#logistic-regression\n",
      "  n_iter_i = _check_optimize_result(\n",
      "c:\\users\\olson\\appdata\\local\\programs\\python\\python38-32\\lib\\site-packages\\sklearn\\linear_model\\_sag.py:352: ConvergenceWarning: The max_iter was reached which means the coef_ did not converge\n",
      "  warnings.warn(\n",
      "c:\\users\\olson\\appdata\\local\\programs\\python\\python38-32\\lib\\site-packages\\sklearn\\linear_model\\_sag.py:352: ConvergenceWarning: The max_iter was reached which means the coef_ did not converge\n",
      "  warnings.warn(\n",
      "c:\\users\\olson\\appdata\\local\\programs\\python\\python38-32\\lib\\site-packages\\sklearn\\linear_model\\_sag.py:352: ConvergenceWarning: The max_iter was reached which means the coef_ did not converge\n",
      "  warnings.warn(\n",
      "c:\\users\\olson\\appdata\\local\\programs\\python\\python38-32\\lib\\site-packages\\sklearn\\linear_model\\_sag.py:352: ConvergenceWarning: The max_iter was reached which means the coef_ did not converge\n",
      "  warnings.warn(\n",
      "c:\\users\\olson\\appdata\\local\\programs\\python\\python38-32\\lib\\site-packages\\sklearn\\linear_model\\_sag.py:352: ConvergenceWarning: The max_iter was reached which means the coef_ did not converge\n",
      "  warnings.warn(\n",
      "c:\\users\\olson\\appdata\\local\\programs\\python\\python38-32\\lib\\site-packages\\sklearn\\linear_model\\_sag.py:352: ConvergenceWarning: The max_iter was reached which means the coef_ did not converge\n",
      "  warnings.warn(\n",
      "c:\\users\\olson\\appdata\\local\\programs\\python\\python38-32\\lib\\site-packages\\sklearn\\linear_model\\_sag.py:352: ConvergenceWarning: The max_iter was reached which means the coef_ did not converge\n",
      "  warnings.warn(\n",
      "c:\\users\\olson\\appdata\\local\\programs\\python\\python38-32\\lib\\site-packages\\sklearn\\linear_model\\_sag.py:352: ConvergenceWarning: The max_iter was reached which means the coef_ did not converge\n",
      "  warnings.warn(\n",
      "c:\\users\\olson\\appdata\\local\\programs\\python\\python38-32\\lib\\site-packages\\sklearn\\linear_model\\_sag.py:352: ConvergenceWarning: The max_iter was reached which means the coef_ did not converge\n",
      "  warnings.warn(\n",
      "c:\\users\\olson\\appdata\\local\\programs\\python\\python38-32\\lib\\site-packages\\sklearn\\linear_model\\_sag.py:352: ConvergenceWarning: The max_iter was reached which means the coef_ did not converge\n",
      "  warnings.warn(\n",
      "c:\\users\\olson\\appdata\\local\\programs\\python\\python38-32\\lib\\site-packages\\sklearn\\linear_model\\_logistic.py:814: ConvergenceWarning: lbfgs failed to converge (status=1):\n",
      "STOP: TOTAL NO. of ITERATIONS REACHED LIMIT.\n",
      "\n",
      "Increase the number of iterations (max_iter) or scale the data as shown in:\n",
      "    https://scikit-learn.org/stable/modules/preprocessing.html\n",
      "Please also refer to the documentation for alternative solver options:\n",
      "    https://scikit-learn.org/stable/modules/linear_model.html#logistic-regression\n",
      "  n_iter_i = _check_optimize_result(\n",
      "c:\\users\\olson\\appdata\\local\\programs\\python\\python38-32\\lib\\site-packages\\sklearn\\linear_model\\_logistic.py:814: ConvergenceWarning: lbfgs failed to converge (status=1):\n",
      "STOP: TOTAL NO. of ITERATIONS REACHED LIMIT.\n",
      "\n",
      "Increase the number of iterations (max_iter) or scale the data as shown in:\n",
      "    https://scikit-learn.org/stable/modules/preprocessing.html\n",
      "Please also refer to the documentation for alternative solver options:\n",
      "    https://scikit-learn.org/stable/modules/linear_model.html#logistic-regression\n",
      "  n_iter_i = _check_optimize_result(\n",
      "c:\\users\\olson\\appdata\\local\\programs\\python\\python38-32\\lib\\site-packages\\sklearn\\linear_model\\_logistic.py:814: ConvergenceWarning: lbfgs failed to converge (status=1):\n",
      "STOP: TOTAL NO. of ITERATIONS REACHED LIMIT.\n",
      "\n",
      "Increase the number of iterations (max_iter) or scale the data as shown in:\n",
      "    https://scikit-learn.org/stable/modules/preprocessing.html\n",
      "Please also refer to the documentation for alternative solver options:\n",
      "    https://scikit-learn.org/stable/modules/linear_model.html#logistic-regression\n",
      "  n_iter_i = _check_optimize_result(\n"
     ]
    },
    {
     "name": "stderr",
     "output_type": "stream",
     "text": [
      "c:\\users\\olson\\appdata\\local\\programs\\python\\python38-32\\lib\\site-packages\\sklearn\\linear_model\\_logistic.py:814: ConvergenceWarning: lbfgs failed to converge (status=1):\n",
      "STOP: TOTAL NO. of ITERATIONS REACHED LIMIT.\n",
      "\n",
      "Increase the number of iterations (max_iter) or scale the data as shown in:\n",
      "    https://scikit-learn.org/stable/modules/preprocessing.html\n",
      "Please also refer to the documentation for alternative solver options:\n",
      "    https://scikit-learn.org/stable/modules/linear_model.html#logistic-regression\n",
      "  n_iter_i = _check_optimize_result(\n",
      "c:\\users\\olson\\appdata\\local\\programs\\python\\python38-32\\lib\\site-packages\\sklearn\\linear_model\\_logistic.py:814: ConvergenceWarning: lbfgs failed to converge (status=1):\n",
      "STOP: TOTAL NO. of ITERATIONS REACHED LIMIT.\n",
      "\n",
      "Increase the number of iterations (max_iter) or scale the data as shown in:\n",
      "    https://scikit-learn.org/stable/modules/preprocessing.html\n",
      "Please also refer to the documentation for alternative solver options:\n",
      "    https://scikit-learn.org/stable/modules/linear_model.html#logistic-regression\n",
      "  n_iter_i = _check_optimize_result(\n",
      "c:\\users\\olson\\appdata\\local\\programs\\python\\python38-32\\lib\\site-packages\\sklearn\\linear_model\\_logistic.py:814: ConvergenceWarning: lbfgs failed to converge (status=1):\n",
      "STOP: TOTAL NO. of ITERATIONS REACHED LIMIT.\n",
      "\n",
      "Increase the number of iterations (max_iter) or scale the data as shown in:\n",
      "    https://scikit-learn.org/stable/modules/preprocessing.html\n",
      "Please also refer to the documentation for alternative solver options:\n",
      "    https://scikit-learn.org/stable/modules/linear_model.html#logistic-regression\n",
      "  n_iter_i = _check_optimize_result(\n",
      "c:\\users\\olson\\appdata\\local\\programs\\python\\python38-32\\lib\\site-packages\\sklearn\\linear_model\\_sag.py:352: ConvergenceWarning: The max_iter was reached which means the coef_ did not converge\n",
      "  warnings.warn(\n",
      "c:\\users\\olson\\appdata\\local\\programs\\python\\python38-32\\lib\\site-packages\\sklearn\\linear_model\\_sag.py:352: ConvergenceWarning: The max_iter was reached which means the coef_ did not converge\n",
      "  warnings.warn(\n",
      "c:\\users\\olson\\appdata\\local\\programs\\python\\python38-32\\lib\\site-packages\\sklearn\\linear_model\\_sag.py:352: ConvergenceWarning: The max_iter was reached which means the coef_ did not converge\n",
      "  warnings.warn(\n",
      "c:\\users\\olson\\appdata\\local\\programs\\python\\python38-32\\lib\\site-packages\\sklearn\\linear_model\\_sag.py:352: ConvergenceWarning: The max_iter was reached which means the coef_ did not converge\n",
      "  warnings.warn(\n",
      "c:\\users\\olson\\appdata\\local\\programs\\python\\python38-32\\lib\\site-packages\\sklearn\\linear_model\\_sag.py:352: ConvergenceWarning: The max_iter was reached which means the coef_ did not converge\n",
      "  warnings.warn(\n",
      "c:\\users\\olson\\appdata\\local\\programs\\python\\python38-32\\lib\\site-packages\\sklearn\\linear_model\\_sag.py:352: ConvergenceWarning: The max_iter was reached which means the coef_ did not converge\n",
      "  warnings.warn(\n",
      "c:\\users\\olson\\appdata\\local\\programs\\python\\python38-32\\lib\\site-packages\\sklearn\\linear_model\\_sag.py:352: ConvergenceWarning: The max_iter was reached which means the coef_ did not converge\n",
      "  warnings.warn(\n",
      "c:\\users\\olson\\appdata\\local\\programs\\python\\python38-32\\lib\\site-packages\\sklearn\\linear_model\\_sag.py:352: ConvergenceWarning: The max_iter was reached which means the coef_ did not converge\n",
      "  warnings.warn(\n",
      "c:\\users\\olson\\appdata\\local\\programs\\python\\python38-32\\lib\\site-packages\\sklearn\\linear_model\\_sag.py:352: ConvergenceWarning: The max_iter was reached which means the coef_ did not converge\n",
      "  warnings.warn(\n",
      "c:\\users\\olson\\appdata\\local\\programs\\python\\python38-32\\lib\\site-packages\\sklearn\\linear_model\\_sag.py:352: ConvergenceWarning: The max_iter was reached which means the coef_ did not converge\n",
      "  warnings.warn(\n",
      "c:\\users\\olson\\appdata\\local\\programs\\python\\python38-32\\lib\\site-packages\\sklearn\\linear_model\\_sag.py:352: ConvergenceWarning: The max_iter was reached which means the coef_ did not converge\n",
      "  warnings.warn(\n",
      "c:\\users\\olson\\appdata\\local\\programs\\python\\python38-32\\lib\\site-packages\\sklearn\\linear_model\\_sag.py:352: ConvergenceWarning: The max_iter was reached which means the coef_ did not converge\n",
      "  warnings.warn(\n",
      "c:\\users\\olson\\appdata\\local\\programs\\python\\python38-32\\lib\\site-packages\\sklearn\\linear_model\\_sag.py:352: ConvergenceWarning: The max_iter was reached which means the coef_ did not converge\n",
      "  warnings.warn(\n",
      "c:\\users\\olson\\appdata\\local\\programs\\python\\python38-32\\lib\\site-packages\\sklearn\\linear_model\\_sag.py:352: ConvergenceWarning: The max_iter was reached which means the coef_ did not converge\n",
      "  warnings.warn(\n",
      "c:\\users\\olson\\appdata\\local\\programs\\python\\python38-32\\lib\\site-packages\\sklearn\\linear_model\\_sag.py:352: ConvergenceWarning: The max_iter was reached which means the coef_ did not converge\n",
      "  warnings.warn(\n",
      "c:\\users\\olson\\appdata\\local\\programs\\python\\python38-32\\lib\\site-packages\\sklearn\\linear_model\\_sag.py:352: ConvergenceWarning: The max_iter was reached which means the coef_ did not converge\n",
      "  warnings.warn(\n",
      "c:\\users\\olson\\appdata\\local\\programs\\python\\python38-32\\lib\\site-packages\\sklearn\\linear_model\\_sag.py:352: ConvergenceWarning: The max_iter was reached which means the coef_ did not converge\n",
      "  warnings.warn(\n",
      "c:\\users\\olson\\appdata\\local\\programs\\python\\python38-32\\lib\\site-packages\\sklearn\\linear_model\\_sag.py:352: ConvergenceWarning: The max_iter was reached which means the coef_ did not converge\n",
      "  warnings.warn(\n",
      "c:\\users\\olson\\appdata\\local\\programs\\python\\python38-32\\lib\\site-packages\\sklearn\\linear_model\\_sag.py:352: ConvergenceWarning: The max_iter was reached which means the coef_ did not converge\n",
      "  warnings.warn(\n",
      "c:\\users\\olson\\appdata\\local\\programs\\python\\python38-32\\lib\\site-packages\\sklearn\\linear_model\\_sag.py:352: ConvergenceWarning: The max_iter was reached which means the coef_ did not converge\n",
      "  warnings.warn(\n",
      "c:\\users\\olson\\appdata\\local\\programs\\python\\python38-32\\lib\\site-packages\\sklearn\\model_selection\\_validation.py:372: FitFailedWarning: \n",
      "50 fits failed out of a total of 120.\n",
      "The score on these train-test partitions for these parameters will be set to nan.\n",
      "If these failures are not expected, you can try to debug them by setting error_score='raise'.\n",
      "\n",
      "Below are more details about the failures:\n",
      "--------------------------------------------------------------------------------\n",
      "10 fits failed with the following error:\n",
      "Traceback (most recent call last):\n",
      "  File \"c:\\users\\olson\\appdata\\local\\programs\\python\\python38-32\\lib\\site-packages\\sklearn\\model_selection\\_validation.py\", line 681, in _fit_and_score\n",
      "    estimator.fit(X_train, y_train, **fit_params)\n",
      "  File \"c:\\users\\olson\\appdata\\local\\programs\\python\\python38-32\\lib\\site-packages\\sklearn\\linear_model\\_logistic.py\", line 1461, in fit\n",
      "    solver = _check_solver(self.solver, self.penalty, self.dual)\n",
      "  File \"c:\\users\\olson\\appdata\\local\\programs\\python\\python38-32\\lib\\site-packages\\sklearn\\linear_model\\_logistic.py\", line 447, in _check_solver\n",
      "    raise ValueError(\n",
      "ValueError: Solver newton-cg supports only 'l2' or 'none' penalties, got l1 penalty.\n",
      "\n",
      "--------------------------------------------------------------------------------\n",
      "10 fits failed with the following error:\n",
      "Traceback (most recent call last):\n",
      "  File \"c:\\users\\olson\\appdata\\local\\programs\\python\\python38-32\\lib\\site-packages\\sklearn\\model_selection\\_validation.py\", line 681, in _fit_and_score\n",
      "    estimator.fit(X_train, y_train, **fit_params)\n",
      "  File \"c:\\users\\olson\\appdata\\local\\programs\\python\\python38-32\\lib\\site-packages\\sklearn\\linear_model\\_logistic.py\", line 1461, in fit\n",
      "    solver = _check_solver(self.solver, self.penalty, self.dual)\n",
      "  File \"c:\\users\\olson\\appdata\\local\\programs\\python\\python38-32\\lib\\site-packages\\sklearn\\linear_model\\_logistic.py\", line 447, in _check_solver\n",
      "    raise ValueError(\n",
      "ValueError: Solver lbfgs supports only 'l2' or 'none' penalties, got l1 penalty.\n",
      "\n",
      "--------------------------------------------------------------------------------\n",
      "10 fits failed with the following error:\n",
      "Traceback (most recent call last):\n",
      "  File \"c:\\users\\olson\\appdata\\local\\programs\\python\\python38-32\\lib\\site-packages\\sklearn\\model_selection\\_validation.py\", line 681, in _fit_and_score\n",
      "    estimator.fit(X_train, y_train, **fit_params)\n",
      "  File \"c:\\users\\olson\\appdata\\local\\programs\\python\\python38-32\\lib\\site-packages\\sklearn\\linear_model\\_logistic.py\", line 1461, in fit\n",
      "    solver = _check_solver(self.solver, self.penalty, self.dual)\n",
      "  File \"c:\\users\\olson\\appdata\\local\\programs\\python\\python38-32\\lib\\site-packages\\sklearn\\linear_model\\_logistic.py\", line 447, in _check_solver\n",
      "    raise ValueError(\n",
      "ValueError: Solver newton-cg supports only 'l2' or 'none' penalties, got elasticnet penalty.\n",
      "\n",
      "--------------------------------------------------------------------------------\n",
      "10 fits failed with the following error:\n",
      "Traceback (most recent call last):\n",
      "  File \"c:\\users\\olson\\appdata\\local\\programs\\python\\python38-32\\lib\\site-packages\\sklearn\\model_selection\\_validation.py\", line 681, in _fit_and_score\n",
      "    estimator.fit(X_train, y_train, **fit_params)\n",
      "  File \"c:\\users\\olson\\appdata\\local\\programs\\python\\python38-32\\lib\\site-packages\\sklearn\\linear_model\\_logistic.py\", line 1461, in fit\n",
      "    solver = _check_solver(self.solver, self.penalty, self.dual)\n",
      "  File \"c:\\users\\olson\\appdata\\local\\programs\\python\\python38-32\\lib\\site-packages\\sklearn\\linear_model\\_logistic.py\", line 447, in _check_solver\n",
      "    raise ValueError(\n",
      "ValueError: Solver lbfgs supports only 'l2' or 'none' penalties, got elasticnet penalty.\n",
      "\n",
      "--------------------------------------------------------------------------------\n",
      "10 fits failed with the following error:\n",
      "Traceback (most recent call last):\n",
      "  File \"c:\\users\\olson\\appdata\\local\\programs\\python\\python38-32\\lib\\site-packages\\sklearn\\model_selection\\_validation.py\", line 681, in _fit_and_score\n",
      "    estimator.fit(X_train, y_train, **fit_params)\n",
      "  File \"c:\\users\\olson\\appdata\\local\\programs\\python\\python38-32\\lib\\site-packages\\sklearn\\linear_model\\_logistic.py\", line 1471, in fit\n",
      "    raise ValueError(\n",
      "ValueError: l1_ratio must be between 0 and 1; got (l1_ratio=None)\n",
      "\n",
      "  warnings.warn(some_fits_failed_message, FitFailedWarning)\n",
      "c:\\users\\olson\\appdata\\local\\programs\\python\\python38-32\\lib\\site-packages\\sklearn\\model_selection\\_search.py:969: UserWarning: One or more of the test scores are non-finite: [0.92674375 0.92720246 0.90703783 0.92627875 0.92582213 0.90703783\n",
      "        nan        nan 0.90703783        nan        nan        nan]\n",
      "  warnings.warn(\n"
     ]
    },
    {
     "data": {
      "text/plain": [
       "{'penalty': 'none', 'solver': 'lbfgs'}"
      ]
     },
     "execution_count": 4,
     "metadata": {},
     "output_type": "execute_result"
    }
   ],
   "source": [
    "# Tuning hyperparametres for logistic regression\n",
    "\n",
    "model = LogisticRegression()\n",
    "\n",
    "params =  {\n",
    "    'penalty': ['none', 'l2', 'l1', 'elasticnet'],\n",
    "    'solver': ['newton-cg', 'lbfgs', 'saga']\n",
    "}\n",
    "\n",
    "grid = GridSearchCV(estimator=model,\n",
    "                    param_grid=params,\n",
    "                    cv=10,\n",
    "                    n_jobs=1,\n",
    "                    verbose=1)\n",
    "\n",
    "grid.fit(train[xcols_alt], train['allstars'])\n",
    "\n",
    "grid.best_params_\n",
    "\n",
    "# Decision Tree with grid search params w alt features\n",
    "\n",
    "#model = model = Pipeline([\n",
    "#    (\"std\", StandardScaler()),\n",
    "#    (\"logr\", LogisticRegression(penalty)\n",
    "#])\n",
    "#model.fit(train[xcols_alt], train[\"allstars\"])\n",
    "#print(f\"Train Accuracy: {model.score(train[xcols_alt], train['allstars'])*100:0.3f}%\")\n",
    "#print(f\"Valid Accuracy: {model.score(test[xcols_alt], test['allstars'])*100:0.3f}%\")"
   ]
  },
  {
   "cell_type": "code",
   "execution_count": 5,
   "metadata": {},
   "outputs": [
    {
     "name": "stdout",
     "output_type": "stream",
     "text": [
      "Train Accuracy: 92.949%\n",
      "Valid Accuracy: 92.593%\n"
     ]
    },
    {
     "data": {
      "text/plain": [
       "<AxesSubplot:>"
      ]
     },
     "execution_count": 5,
     "metadata": {},
     "output_type": "execute_result"
    },
    {
     "data": {
      "image/png": "[encoded data removed]",
      "text/plain": [
       "<Figure size 432x288 with 1 Axes>"
      ]
     },
     "metadata": {
      "needs_background": "light"
     },
     "output_type": "display_data"
    }
   ],
   "source": [
    "# Logistic Reg post tuning\n",
    "model = Pipeline([\n",
    "    (\"std\", StandardScaler()),\n",
    "    (\"logr\", LogisticRegression(penalty = 'l2', solver = 'newton-cg'))\n",
    "])\n",
    "model.fit(train[xcols], train[\"allstars\"])\n",
    "model.score(test[xcols], test[\"allstars\"])\n",
    "\n",
    "print(f\"Train Accuracy: {model.score(train[xcols], train['allstars'])*100:0.3f}%\")\n",
    "print(f\"Valid Accuracy: {model.score(test[xcols], test['allstars'])*100:0.3f}%\")\n",
    "pd.Series(model[\"logr\"].coef_.reshape(-1), index=xcols).plot.bar()"
   ]
  },
  {
   "cell_type": "code",
   "execution_count": 6,
   "metadata": {},
   "outputs": [],
   "source": [
    "#Hyperparamter tuning did not affect much for logistic regression. "
   ]
  },
  {
   "cell_type": "code",
   "execution_count": 7,
   "metadata": {},
   "outputs": [
    {
     "name": "stdout",
     "output_type": "stream",
     "text": [
      "Train Accuracy: 92.903%\n",
      "Valid Accuracy: 92.318%\n"
     ]
    },
    {
     "data": {
      "text/plain": [
       "<AxesSubplot:>"
      ]
     },
     "execution_count": 7,
     "metadata": {},
     "output_type": "execute_result"
    },
    {
     "data": {
      "image/png": "[encoded data removed]",
      "text/plain": [
       "<Figure size 432x288 with 1 Axes>"
      ]
     },
     "metadata": {
      "needs_background": "light"
     },
     "output_type": "display_data"
    }
   ],
   "source": [
    "# Logistic Reg w alt features\n",
    "model = Pipeline([\n",
    "    (\"std\", StandardScaler()),\n",
    "    (\"logr\", LogisticRegression())\n",
    "])\n",
    "model.fit(train[xcols_alt], train[\"allstars\"])\n",
    "model.score(test[xcols_alt], test[\"allstars\"])\n",
    "\n",
    "print(f\"Train Accuracy: {model.score(train[xcols_alt], train['allstars'])*100:0.3f}%\")\n",
    "print(f\"Valid Accuracy: {model.score(test[xcols_alt], test['allstars'])*100:0.3f}%\")\n",
    "pd.Series(model[\"logr\"].coef_.reshape(-1), index=xcols_alt).plot.bar()"
   ]
  },
  {
   "cell_type": "code",
   "execution_count": 8,
   "metadata": {},
   "outputs": [
    {
     "data": {
      "text/plain": [
       "array([0.86, 0.07, 0.03, 0.02, 0.01, 0.01, 0.  , 0.  , 0.  , 0.  , 0.  ,\n",
       "       0.  , 0.  , 0.  , 0.  , 0.  ])"
      ]
     },
     "execution_count": 8,
     "metadata": {},
     "output_type": "execute_result"
    }
   ],
   "source": [
    "# Principal Component Analysis\n",
    "\n",
    "df_pca = df[xcols].dropna()\n",
    "pca = PCA(n_components = 16)\n",
    "pca.fit(df_pca)\n",
    "key_df = pd.DataFrame(pca.components_)\n",
    "arr = pca.transform(df_pca)\n",
    "data_df = pd.DataFrame(arr)\n",
    "pca.explained_variance_ratio_.round(2)"
   ]
  },
  {
   "cell_type": "code",
   "execution_count": 9,
   "metadata": {},
   "outputs": [
    {
     "data": {
      "text/plain": [
       "array([0.857, 0.073, 0.03 , 0.017, 0.009, 0.008, 0.004])"
      ]
     },
     "execution_count": 9,
     "metadata": {},
     "output_type": "execute_result"
    }
   ],
   "source": [
    "data_df = pd.DataFrame(pca.fit_transform(df_pca))\n",
    "key_df = pd.DataFrame(pca.components_)\n",
    "pca = PCA(n_components = 7)\n",
    "data_df = pd.DataFrame(pca.fit_transform(df_pca))\n",
    "key_df = pd.DataFrame(pca.components_)\n",
    "pca.explained_variance_ratio_.round(3)"
   ]
  },
  {
   "cell_type": "code",
   "execution_count": 10,
   "metadata": {},
   "outputs": [
    {
     "data": {
      "text/plain": [
       "array([0.857, 0.073, 0.03 , 0.017, 0.009, 0.008, 0.004])"
      ]
     },
     "execution_count": 10,
     "metadata": {},
     "output_type": "execute_result"
    }
   ],
   "source": [
    "pca = PCA(n_components = 7, whiten = False)\n",
    "data_df = pd.DataFrame(pca.fit_transform(df_pca))\n",
    "key_df = pd.DataFrame(pca.components_)\n",
    "pca.explained_variance_ratio_.round(3)"
   ]
  },
  {
   "cell_type": "code",
   "execution_count": 11,
   "metadata": {},
   "outputs": [],
   "source": [
    "component_list = [1,2,3,4,5,6,7,8,9,10,11]"
   ]
  },
  {
   "cell_type": "code",
   "execution_count": 12,
   "metadata": {},
   "outputs": [
    {
     "name": "stdout",
     "output_type": "stream",
     "text": [
      "1     0.856697\n",
      "2     0.929486\n",
      "3     0.959513\n",
      "4     0.976102\n",
      "5     0.985542\n",
      "6     0.993477\n",
      "7     0.997180\n",
      "8     0.998789\n",
      "9     0.999860\n",
      "10    0.999988\n",
      "11    0.999999\n",
      "12    1.000000\n",
      "13    1.000000\n",
      "14    1.000000\n",
      "15    1.000000\n",
      "16    1.000000\n",
      "dtype: float64\n",
      "1     0.475408\n",
      "2     0.587524\n",
      "3     0.679086\n",
      "4     0.745657\n",
      "5     0.807989\n",
      "6     0.865296\n",
      "7     0.912900\n",
      "8     0.943769\n",
      "9     0.973368\n",
      "10    0.984398\n",
      "11    0.991165\n",
      "12    0.994479\n",
      "13    0.997612\n",
      "14    0.999396\n",
      "15    0.999979\n",
      "16    1.000000\n",
      "dtype: float64\n"
     ]
    },
    {
     "data": {
      "image/png": "[encoded data removed]",
      "text/plain": [
       "<Figure size 432x288 with 1 Axes>"
      ]
     },
     "metadata": {
      "needs_background": "light"
     },
     "output_type": "display_data"
    }
   ],
   "source": [
    "def explained(scale):\n",
    "    stages = [(\"imp\", SimpleImputer(strategy=\"most_frequent\"))]\n",
    "    if scale:\n",
    "        stages.append((\"std\", StandardScaler()))\n",
    "    stages.append((\"pca\", PCA()))\n",
    "    p = Pipeline(stages)\n",
    "    p.fit(df[xcols])\n",
    "    #print(p[\"pca\"].components_.round(2))\n",
    "    explained = p[\"pca\"].explained_variance_\n",
    "    s = pd.Series(explained.cumsum() / explained.sum(),\n",
    "                  index=range(1, len(xcols)+1))\n",
    "    print(s)\n",
    "    return s\n",
    "plt.rcParams.update({'font.size': 14})\n",
    "ax = explained(False).plot.line(label=\"not scaled\", ylim=0)\n",
    "explained(True).plot.line(label=\"scaled\", ax=ax)\n",
    "ax.set_xlabel(\"Number of Components\")\n",
    "ax.set_ylabel(\"Explained Variance\")\n",
    "ax.spines[\"top\"].set_visible(False)\n",
    "ax.spines[\"right\"].set_visible(False)\n",
    "ax.legend(frameon=False)\n",
    "ax.set_title(\"Figure 2: Cumulative Principal Components\", pad=20)\n",
    "\n",
    "plt.savefig(\"Fig 2.png\", bbox_inches = 'tight')"
   ]
  },
  {
   "cell_type": "code",
   "execution_count": 13,
   "metadata": {},
   "outputs": [
    {
     "name": "stdout",
     "output_type": "stream",
     "text": [
      "Train Accuracy: 93.361%\n",
      "Valid Accuracy: 91.770%\n",
      "Alt Train Accuracy: 93.361%\n",
      "Alt Valid Accuracy: 92.044%\n"
     ]
    }
   ],
   "source": [
    "# Knn\n",
    "\n",
    "knn = KNeighborsClassifier(n_neighbors=5)\n",
    "knn.fit(train[xcols], train[\"allstars\"])\n",
    "print(f\"Train Accuracy: {knn.score(train[xcols], train['allstars'])*100:0.3f}%\")\n",
    "print(f\"Valid Accuracy: {knn.score(test[xcols], test['allstars'])*100:0.3f}%\")\n",
    "knn.fit(train[xcols_alt], train[\"allstars\"])\n",
    "print(f\"Alt Train Accuracy: {knn.score(train[xcols_alt], train['allstars'])*100:0.3f}%\")\n",
    "print(f\"Alt Valid Accuracy: {knn.score(test[xcols_alt], test['allstars'])*100:0.3f}%\")"
   ]
  },
  {
   "cell_type": "code",
   "execution_count": 14,
   "metadata": {},
   "outputs": [
    {
     "name": "stdout",
     "output_type": "stream",
     "text": [
      "Train Accuracy: 99.725%\n",
      "Valid Accuracy: 92.318%\n",
      "Alt Train Accuracy: 99.084%\n",
      "Alt Valid Accuracy: 91.907%\n"
     ]
    }
   ],
   "source": [
    "# Random Forest\n",
    "\n",
    "clf = RandomForestClassifier(max_depth=12, random_state=0, n_estimators = 100, criterion = \"gini\", bootstrap = True, min_samples_split = 4, max_features = \"sqrt\")\n",
    "clf.fit(train[xcols], train[\"allstars\"])\n",
    "print(f\"Train Accuracy: {clf.score(train[xcols], train['allstars'])*100:0.3f}%\")\n",
    "print(f\"Valid Accuracy: {clf.score(test[xcols], test['allstars'])*100:0.3f}%\")\n",
    "clf.fit(train[xcols_alt], train[\"allstars\"])\n",
    "print(f\"Alt Train Accuracy: {clf.score(train[xcols_alt], train['allstars'])*100:0.3f}%\")\n",
    "print(f\"Alt Valid Accuracy: {clf.score(test[xcols_alt], test['allstars'])*100:0.3f}%\")"
   ]
  },
  {
   "cell_type": "code",
   "execution_count": 15,
   "metadata": {},
   "outputs": [
    {
     "name": "stdout",
     "output_type": "stream",
     "text": [
      "Train Accuracy: 99.634%\n",
      "Valid Accuracy: 90.535%\n",
      "Alt Train Accuracy: 98.764%\n",
      "Alt Valid Accuracy: 89.163%\n"
     ]
    }
   ],
   "source": [
    "# Decision Tree\n",
    "\n",
    "dtc = DecisionTreeClassifier(max_depth=12, max_features = \"auto\")\n",
    "dtc.fit(train[xcols], train[\"allstars\"])\n",
    "print(f\"Train Accuracy: {dtc.score(train[xcols], train['allstars'])*100:0.3f}%\")\n",
    "print(f\"Valid Accuracy: {dtc.score(test[xcols], test['allstars'])*100:0.3f}%\")\n",
    "dtc.fit(train[xcols_alt], train[\"allstars\"])\n",
    "print(f\"Alt Train Accuracy: {dtc.score(train[xcols_alt], train['allstars'])*100:0.3f}%\")\n",
    "print(f\"Alt Valid Accuracy: {dtc.score(test[xcols_alt], test['allstars'])*100:0.3f}%\")"
   ]
  },
  {
   "cell_type": "code",
   "execution_count": 16,
   "metadata": {},
   "outputs": [
    {
     "name": "stdout",
     "output_type": "stream",
     "text": [
      "Fitting 10 folds for each of 320 candidates, totalling 3200 fits\n",
      "Train Accuracy: 92.949%\n",
      "Valid Accuracy: 91.358%\n"
     ]
    },
    {
     "name": "stderr",
     "output_type": "stream",
     "text": [
      "c:\\users\\olson\\appdata\\local\\programs\\python\\python38-32\\lib\\site-packages\\sklearn\\model_selection\\_validation.py:372: FitFailedWarning: \n",
      "800 fits failed out of a total of 3200.\n",
      "The score on these train-test partitions for these parameters will be set to nan.\n",
      "If these failures are not expected, you can try to debug them by setting error_score='raise'.\n",
      "\n",
      "Below are more details about the failures:\n",
      "--------------------------------------------------------------------------------\n",
      "800 fits failed with the following error:\n",
      "Traceback (most recent call last):\n",
      "  File \"c:\\users\\olson\\appdata\\local\\programs\\python\\python38-32\\lib\\site-packages\\sklearn\\model_selection\\_validation.py\", line 681, in _fit_and_score\n",
      "    estimator.fit(X_train, y_train, **fit_params)\n",
      "  File \"c:\\users\\olson\\appdata\\local\\programs\\python\\python38-32\\lib\\site-packages\\sklearn\\tree\\_classes.py\", line 937, in fit\n",
      "    super().fit(\n",
      "  File \"c:\\users\\olson\\appdata\\local\\programs\\python\\python38-32\\lib\\site-packages\\sklearn\\tree\\_classes.py\", line 250, in fit\n",
      "    raise ValueError(\n",
      "ValueError: min_samples_split must be an integer greater than 1 or a float in (0.0, 1.0]; got the integer 1\n",
      "\n",
      "  warnings.warn(some_fits_failed_message, FitFailedWarning)\n",
      "c:\\users\\olson\\appdata\\local\\programs\\python\\python38-32\\lib\\site-packages\\sklearn\\model_selection\\_search.py:969: UserWarning: One or more of the test scores are non-finite: [       nan 0.9198672  0.9198672  0.9198672         nan 0.9198672\n",
      " 0.9198672  0.9198672         nan 0.9198672  0.9198672  0.9198672\n",
      "        nan 0.91895396 0.91895396 0.91895396        nan 0.92125173\n",
      " 0.92125173 0.92125173        nan 0.92125173 0.92125173 0.92125173\n",
      "        nan 0.92125173 0.92125173 0.92125173        nan 0.9203322\n",
      " 0.9203322  0.9203322         nan 0.90981316 0.90843911 0.90385405\n",
      "        nan 0.90981316 0.90843911 0.90385405        nan 0.90981316\n",
      " 0.90843911 0.90385405        nan 0.91619957 0.91619957 0.91620376\n",
      "        nan 0.90431276 0.90019689 0.90384567        nan 0.90431276\n",
      " 0.90019689 0.90384567        nan 0.90431276 0.90019689 0.90384567\n",
      "        nan 0.90338905 0.90292824 0.90155           nan 0.90337858\n",
      " 0.90109966 0.89513845        nan 0.90337858 0.90109966 0.89513845\n",
      "        nan 0.90337858 0.90109966 0.89513845        nan 0.89514474\n",
      " 0.8969775  0.89605588        nan 0.8965146  0.8955867  0.90338277\n",
      "        nan 0.8965146  0.8955867  0.90338277        nan 0.8965146\n",
      " 0.8955867  0.90338277        nan 0.88645846 0.89286163 0.89058062\n",
      "        nan 0.89100792 0.89285744 0.88965062        nan 0.89100792\n",
      " 0.89285744 0.88965062        nan 0.89100792 0.89285744 0.88965062\n",
      "        nan 0.88920657 0.88873738 0.88920238        nan 0.89649784\n",
      " 0.88965481 0.89146663        nan 0.89649784 0.88965481 0.89146663\n",
      "        nan 0.89649784 0.88965481 0.89146663        nan 0.89058062\n",
      " 0.88782414 0.88874576        nan 0.89284487 0.8914792  0.88965062\n",
      "        nan 0.89284487 0.8914792  0.88965062        nan 0.89284487\n",
      " 0.8914792  0.88965062        nan 0.89104562 0.88781785 0.88783252\n",
      "        nan 0.89284487 0.8914792  0.88965062        nan 0.89284487\n",
      " 0.8914792  0.88965062        nan 0.89284487 0.8914792  0.88965062\n",
      "        nan 0.89104562 0.88781785 0.88783252        nan 0.90797621\n",
      " 0.90797621 0.90797621        nan 0.90797621 0.90797621 0.90797621\n",
      "        nan 0.90797621 0.90797621 0.90797621        nan 0.90843283\n",
      " 0.90843283 0.90843283        nan 0.92352855 0.92352855 0.92352855\n",
      "        nan 0.92352855 0.92352855 0.92352855        nan 0.92352855\n",
      " 0.92352855 0.92352855        nan 0.91667295 0.91667295 0.91667295\n",
      "        nan 0.90522182 0.90568053 0.9052302         nan 0.90522182\n",
      " 0.90568053 0.9052302         nan 0.90522182 0.90568053 0.9052302\n",
      "        nan 0.91210255 0.91210255 0.91164593        nan 0.90385195\n",
      " 0.90109547 0.9052281         nan 0.90385195 0.90109547 0.9052281\n",
      "        nan 0.90385195 0.90109547 0.9052281         nan 0.90340371\n",
      " 0.90248838 0.90156675        nan 0.90248419 0.90385195 0.90065561\n",
      "        nan 0.90248419 0.90385195 0.90065561        nan 0.90248419\n",
      " 0.90385195 0.90065561        nan 0.90065351 0.8979075  0.89425663\n",
      "        nan 0.89193582 0.8951573  0.89331197        nan 0.89193582\n",
      " 0.8951573  0.89331197        nan 0.89193582 0.8951573  0.89331197\n",
      "        nan 0.89928156 0.89974027 0.89470697        nan 0.89423568\n",
      " 0.89287629 0.89149177        nan 0.89423568 0.89287629 0.89149177\n",
      "        nan 0.89423568 0.89287629 0.89149177        nan 0.89653555\n",
      " 0.89653345 0.89333501        nan 0.89057015 0.89426082 0.89559717\n",
      "        nan 0.89057015 0.89426082 0.89559717        nan 0.89057015\n",
      " 0.89426082 0.89559717        nan 0.8928742  0.8928742  0.89424825\n",
      "        nan 0.88828285 0.89288048 0.89331825        nan 0.88828285\n",
      " 0.89288048 0.89331825        nan 0.88828285 0.89288048 0.89331825\n",
      "        nan 0.89516359 0.89699217 0.89196515        nan 0.88828285\n",
      " 0.89288048 0.89331825        nan 0.88828285 0.89288048 0.89331825\n",
      "        nan 0.88828285 0.89288048 0.89331825        nan 0.89516359\n",
      " 0.89699217 0.89196515]\n",
      "  warnings.warn(\n"
     ]
    }
   ],
   "source": [
    "# Grid Search for best params\n",
    "dtc = DecisionTreeClassifier(random_state=123)\n",
    "\n",
    "params =  {\n",
    "    'min_samples_split': [1, 2, 3, 4],\n",
    "    'max_depth': [2, 4, 6, 8, 10, 12, 14, 16, 24, None],\n",
    "    'max_features': [\"auto\",\"sqrt\", \"log2\", None],\n",
    "    'criterion': [\"gini\", \"entropy\"]\n",
    "}\n",
    "\n",
    "grid = GridSearchCV(estimator=dtc,\n",
    "                    param_grid=params,\n",
    "                    cv=10,\n",
    "                    n_jobs=1,\n",
    "                    verbose=1)\n",
    "\n",
    "grid.fit(train[xcols], train['allstars'])\n",
    "\n",
    "# Decision Tree with grid search params\n",
    "\n",
    "dtc = DecisionTreeClassifier(max_depth = grid.best_params_['max_depth'],\n",
    "                             max_features = grid.best_params_['max_features'],\n",
    "                             min_samples_split = grid.best_params_['min_samples_split'], \n",
    "                             criterion = grid.best_params_['criterion'])\n",
    "dtc.fit(train[xcols], train[\"allstars\"])\n",
    "print(f\"Train Accuracy: {dtc.score(train[xcols], train['allstars'])*100:0.3f}%\")\n",
    "print(f\"Valid Accuracy: {dtc.score(test[xcols], test['allstars'])*100:0.3f}%\")"
   ]
  },
  {
   "cell_type": "code",
   "execution_count": null,
   "metadata": {},
   "outputs": [
    {
     "name": "stdout",
     "output_type": "stream",
     "text": [
      "Fitting 10 folds for each of 320 candidates, totalling 3200 fits\n"
     ]
    }
   ],
   "source": [
    "# Grid Search for best params w alt features\n",
    "dtc = DecisionTreeClassifier(random_state=123)\n",
    "\n",
    "params =  {\n",
    "    'min_samples_split': [1, 2, 3, 4],\n",
    "    'max_depth': [2, 4, 6, 8, 10, 12, 14, 16, 24, None],\n",
    "    'max_features': [\"auto\",\"sqrt\", \"log2\", None],\n",
    "    'criterion': [\"gini\", \"entropy\"]\n",
    "}\n",
    "\n",
    "grid = GridSearchCV(estimator=dtc,\n",
    "                    param_grid=params,\n",
    "                    cv=10,\n",
    "                    n_jobs=1,\n",
    "                    verbose=1)\n",
    "\n",
    "grid.fit(train[xcols_alt], train['allstars'])\n",
    "\n",
    "# Decision Tree with grid search params w alt features\n",
    "\n",
    "dtc = DecisionTreeClassifier(max_depth = grid.best_params_['max_depth'],\n",
    "                             max_features = grid.best_params_['max_features'],\n",
    "                             min_samples_split = grid.best_params_['min_samples_split'], \n",
    "                             criterion = grid.best_params_['criterion'])\n",
    "dtc.fit(train[xcols_alt], train[\"allstars\"])\n",
    "print(f\"Train Accuracy: {dtc.score(train[xcols_alt], train['allstars'])*100:0.3f}%\")\n",
    "print(f\"Valid Accuracy: {dtc.score(test[xcols_alt], test['allstars'])*100:0.3f}%\")"
   ]
  },
  {
   "cell_type": "code",
   "execution_count": null,
   "metadata": {},
   "outputs": [],
   "source": [
    "grid.best_params_"
   ]
  },
  {
   "cell_type": "code",
   "execution_count": null,
   "metadata": {},
   "outputs": [],
   "source": [
    "# MLP\n",
    "\n",
    "mlp = MLPClassifier(random_state=0, max_iter = 300)\n",
    "mlp.fit(train[xcols], train[\"allstars\"])\n",
    "print(f\"Train Accuracy: {mlp.score(train[xcols], train['allstars'])*100:0.3f}%\")\n",
    "print(f\"Valid Accuracy: {mlp.score(test[xcols], test['allstars'])*100:0.3f}%\")\n",
    "mlp.fit(train[xcols_alt], train[\"allstars\"])\n",
    "print(f\"Alt Train Accuracy: {mlp.score(train[xcols_alt], train['allstars'])*100:0.3f}%\")\n",
    "print(f\"Alt Valid Accuracy: {mlp.score(test[xcols_alt], test['allstars'])*100:0.3f}%\")"
   ]
  },
  {
   "cell_type": "code",
   "execution_count": null,
   "metadata": {},
   "outputs": [],
   "source": [
    "# AdaBoost\n",
    "\n",
    "ada = AdaBoostClassifier()\n",
    "ada.fit(train[xcols], train[\"allstars\"])\n",
    "print(f\"Train Accuracy: {ada.score(train[xcols], train['allstars'])*100:0.3f}%\")\n",
    "print(f\"Valid Accuracy: {ada.score(test[xcols], test['allstars'])*100:0.3f}%\")\n",
    "ada.fit(train[xcols_alt], train[\"allstars\"])\n",
    "print(f\"Alt Train Accuracy: {ada.score(train[xcols_alt], train['allstars'])*100:0.3f}%\")\n",
    "print(f\"Alt Valid Accuracy: {ada.score(test[xcols_alt], test['allstars'])*100:0.3f}%\")"
   ]
  },
  {
   "cell_type": "code",
   "execution_count": null,
   "metadata": {},
   "outputs": [],
   "source": [
    "def optimization_objective(trial, X_train, y_train, cv=5):\n",
    "\n",
    "    \n",
    "    params =  {\n",
    "        'min_samples_split': trial.suggest_int('min_samples_split', 2, 10),\n",
    "        'min_impurity_decrease': trial.suggest_uniform('min_impurity_decrease', 0.0, 0.5),\n",
    "        'max_depth': trial.suggest_categorical('max_depth', [6, 16, None])\n",
    "    }\n",
    "\n",
    "    cv_iterator = StratifiedKFold(n_splits=cv, shuffle=True, random_state=123)\n",
    "\n",
    "    cv_scores = np.zeros(cv)\n",
    "    for idx, (train_sub_idx, valid_idx) in enumerate(cv_iterator.split(X_train, y_train)):\n",
    "        \n",
    "        X_train_sub, X_valid = X_train[train_sub_idx], X_train[valid_idx]\n",
    "        y_train_sub, y_valid = y_train[train_sub_idx], y_train[valid_idx]\n",
    "        \n",
    "\n",
    "        model = DecisionTreeClassifier(**params, random_state=123)\n",
    "        model.fit(X_train_sub, y_train_sub)\n",
    "        preds = model.score(X_valid, y_valid)\n",
    "        \n",
    "        cv_scores[idx] = preds\n",
    "\n",
    "    return np.mean(cv_scores)"
   ]
  },
  {
   "cell_type": "code",
   "execution_count": null,
   "metadata": {},
   "outputs": [],
   "source": []
  }
 ],
 "metadata": {
  "kernelspec": {
   "display_name": "Python 3",
   "language": "python",
   "name": "python3"
  },
  "language_info": {
   "codemirror_mode": {
    "name": "ipython",
    "version": 3
   },
   "file_extension": ".py",
   "mimetype": "text/x-python",
   "name": "python",
   "nbconvert_exporter": "python",
   "pygments_lexer": "ipython3",
   "version": "3.8.5"
  }
 },
 "nbformat": 4,
 "nbformat_minor": 4
}
